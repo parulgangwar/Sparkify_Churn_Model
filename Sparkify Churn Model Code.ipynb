{
 "cells": [
  {
   "cell_type": "markdown",
   "metadata": {},
   "source": [
    "# Sparkify Project Workspace\n",
    "This workspace contains a tiny subset (128MB) of the full dataset available (12GB). Feel free to use this workspace to build your project, or to explore a smaller subset with Spark before deploying your cluster on the cloud. Instructions for setting up your Spark cluster is included in the last lesson of the Extracurricular Spark Course content.\n",
    "\n",
    "You can follow the steps below to guide your data analysis and model building portion of this project."
   ]
  },
  {
   "cell_type": "markdown",
   "metadata": {},
   "source": [
    "In today's business world, keeping customers engaged and preventing them from leaving is very important. Predictive analytics is an important tool that helps businesses predict what customers can do next. By using this information, companies can offer special deals or loyalty programs to keep customers happy and loyal. With so much data available nowadays, businesses are relying more and more on data science to make smart decisions and to brow business successfully."
   ]
  },
  {
   "cell_type": "code",
   "execution_count": 1,
   "metadata": {},
   "outputs": [],
   "source": [
    "#This step is to import libraries\n",
    "\n",
    "import pandas as pd\n",
    "import matplotlib.pyplot as plt\n",
    "import seaborn as sns\n",
    "\n",
    "from pyspark.sql import SparkSession\n",
    "from pyspark.sql.functions import avg, col, concat, count, desc, explode, lit, min, max, split, stddev, udf, countDistinct, sum as spark_sum, when, expr\n",
    "from pyspark.sql.types import IntegerType\n",
    "from pyspark.ml import Pipeline\n",
    "from pyspark.ml.classification import LogisticRegression, GBTClassifier, LinearSVC\n",
    "from pyspark.ml.evaluation import MulticlassClassificationEvaluator\n",
    "from pyspark.ml.feature import CountVectorizer, IDF, Normalizer, StandardScaler, StringIndexer, VectorAssembler\n",
    "from pyspark.ml.tuning import CrossValidator, ParamGridBuilder\n",
    "from pyspark.ml.evaluation import BinaryClassificationEvaluator\n",
    "\n",
    "from pyspark.sql.functions import from_unixtime, datediff\n",
    "from pyspark.sql.window import Window"
   ]
  },
  {
   "cell_type": "code",
   "execution_count": 2,
   "metadata": {},
   "outputs": [],
   "source": [
    "# This step is to create a Spark session\n",
    "spark = SparkSession.builder.master(\"local\").appName(\"Spark - Capstone Project\").getOrCreate()"
   ]
  },
  {
   "cell_type": "markdown",
   "metadata": {},
   "source": [
    "# Load and Clean Dataset\n",
    "In this workspace, the mini-dataset file is `mini_sparkify_event_data.json`. Load and clean the dataset, checking for invalid or missing data - for example, records without userids or sessionids. "
   ]
  },
  {
   "cell_type": "code",
   "execution_count": 3,
   "metadata": {},
   "outputs": [],
   "source": [
    "#This step is to fetch sparkify event data\n",
    "sparkify_df = spark.read.json('mini_sparkify_event_data.json')"
   ]
  },
  {
   "cell_type": "code",
   "execution_count": 4,
   "metadata": {},
   "outputs": [
    {
     "name": "stdout",
     "output_type": "stream",
     "text": [
      "Total number of rows in Sparkify event dataframe are: 286500\n",
      "Total number of columns in Sparkify event dataframe are: 18\n"
     ]
    }
   ],
   "source": [
    "#This step is to get rows and column count of Sparkify event dataset\n",
    "print(\"Total number of rows in Sparkify event dataframe are:\", sparkify_df.count())\n",
    "print(\"Total number of columns in Sparkify event dataframe are:\", len(sparkify_df.columns))"
   ]
  },
  {
   "cell_type": "code",
   "execution_count": 5,
   "metadata": {},
   "outputs": [
    {
     "name": "stdout",
     "output_type": "stream",
     "text": [
      "root\n",
      " |-- artist: string (nullable = true)\n",
      " |-- auth: string (nullable = true)\n",
      " |-- firstName: string (nullable = true)\n",
      " |-- gender: string (nullable = true)\n",
      " |-- itemInSession: long (nullable = true)\n",
      " |-- lastName: string (nullable = true)\n",
      " |-- length: double (nullable = true)\n",
      " |-- level: string (nullable = true)\n",
      " |-- location: string (nullable = true)\n",
      " |-- method: string (nullable = true)\n",
      " |-- page: string (nullable = true)\n",
      " |-- registration: long (nullable = true)\n",
      " |-- sessionId: long (nullable = true)\n",
      " |-- song: string (nullable = true)\n",
      " |-- status: long (nullable = true)\n",
      " |-- ts: long (nullable = true)\n",
      " |-- userAgent: string (nullable = true)\n",
      " |-- userId: string (nullable = true)\n",
      "\n"
     ]
    }
   ],
   "source": [
    "#This step is to print schema of sparkify event dataset\n",
    "sparkify_df.printSchema()"
   ]
  },
  {
   "cell_type": "code",
   "execution_count": 6,
   "metadata": {},
   "outputs": [
    {
     "name": "stdout",
     "output_type": "stream",
     "text": [
      "+-------+-----------------+\n",
      "|summary|           userId|\n",
      "+-------+-----------------+\n",
      "|  count|           286500|\n",
      "|   mean|59682.02278593872|\n",
      "| stddev|109091.9499991047|\n",
      "|    min|                 |\n",
      "|    max|               99|\n",
      "+-------+-----------------+\n",
      "\n"
     ]
    }
   ],
   "source": [
    "#This step is to get descriptive statistics of userid\n",
    "sparkify_df.describe('userId').show()"
   ]
  },
  {
   "cell_type": "code",
   "execution_count": 7,
   "metadata": {},
   "outputs": [
    {
     "name": "stdout",
     "output_type": "stream",
     "text": [
      "+-------+-----------------+\n",
      "|summary|        sessionId|\n",
      "+-------+-----------------+\n",
      "|  count|           286500|\n",
      "|   mean|1041.526554973822|\n",
      "| stddev|726.7762634630741|\n",
      "|    min|                1|\n",
      "|    max|             2474|\n",
      "+-------+-----------------+\n",
      "\n"
     ]
    }
   ],
   "source": [
    "#This step is to get descriptive statistics of sessionid\n",
    "sparkify_df.describe('sessionId').show()"
   ]
  },
  {
   "cell_type": "code",
   "execution_count": 8,
   "metadata": {},
   "outputs": [
    {
     "name": "stdout",
     "output_type": "stream",
     "text": [
      "+------+----+---------+------+-------------+--------+------+-----+--------+------+----+------------+---------+-----+------+---+---------+------+\n",
      "|artist|auth|firstName|gender|itemInSession|lastName|length|level|location|method|page|registration|sessionId| song|status| ts|userAgent|userId|\n",
      "+------+----+---------+------+-------------+--------+------+-----+--------+------+----+------------+---------+-----+------+---+---------+------+\n",
      "| 58392|   0|     8346|  8346|            0|    8346| 58392|    0|    8346|     0|   0|        8346|        0|58392|     0|  0|     8346|     0|\n",
      "+------+----+---------+------+-------------+--------+------+-----+--------+------+----+------------+---------+-----+------+---+---------+------+\n",
      "\n"
     ]
    }
   ],
   "source": [
    "#This step is to get missig values of sparkify_df columns\n",
    "\n",
    "missing_val = sparkify_df.select(\n",
    "    [\n",
    "        spark_sum(col(c).isNull().cast(\"int\")).alias(c)\n",
    "        for c in sparkify_df.columns\n",
    "    ]\n",
    ")\n",
    "\n",
    "missing_val.show()"
   ]
  },
  {
   "cell_type": "code",
   "execution_count": 9,
   "metadata": {},
   "outputs": [
    {
     "name": "stdout",
     "output_type": "stream",
     "text": [
      "8346\n"
     ]
    }
   ],
   "source": [
    "# This step is to check empty/blank values in UserId column\n",
    "empty_values_userId = sparkify_df.filter(col('userId') == \"\").count()\n",
    "print(empty_values_userId)"
   ]
  },
  {
   "cell_type": "code",
   "execution_count": 10,
   "metadata": {},
   "outputs": [
    {
     "name": "stdout",
     "output_type": "stream",
     "text": [
      "0\n"
     ]
    }
   ],
   "source": [
    "# This step is to check empty/blank values in SessionId column\n",
    "empty_values_sessionId = sparkify_df.filter(col('sessionId') == \"\").count()\n",
    "print(empty_values_sessionId)"
   ]
  },
  {
   "cell_type": "code",
   "execution_count": 11,
   "metadata": {},
   "outputs": [],
   "source": [
    "# This step is to remove rows from sparkify_df where UserId column has empty/blank values\n",
    "sparkify_df_cln = sparkify_df.filter(sparkify_df['userId']!='')"
   ]
  },
  {
   "cell_type": "markdown",
   "metadata": {},
   "source": [
    "Have removed the data where UserId is missing, Let's check if there are any missing values in UserId or not."
   ]
  },
  {
   "cell_type": "code",
   "execution_count": 12,
   "metadata": {
    "scrolled": true
   },
   "outputs": [
    {
     "name": "stdout",
     "output_type": "stream",
     "text": [
      "+------+----+---------+------+-------------+--------+------+-----+--------+------+----+------------+---------+-----+------+---+---------+------+\n",
      "|artist|auth|firstName|gender|itemInSession|lastName|length|level|location|method|page|registration|sessionId| song|status| ts|userAgent|userId|\n",
      "+------+----+---------+------+-------------+--------+------+-----+--------+------+----+------------+---------+-----+------+---+---------+------+\n",
      "| 50046|   0|        0|     0|            0|       0| 50046|    0|       0|     0|   0|           0|        0|50046|     0|  0|        0|     0|\n",
      "+------+----+---------+------+-------------+--------+------+-----+--------+------+----+------------+---------+-----+------+---+---------+------+\n",
      "\n"
     ]
    }
   ],
   "source": [
    "# This step is to get missig values of sparkify_df columns\n",
    "\n",
    "missing_val = sparkify_df_cln.select(\n",
    "    [\n",
    "        spark_sum(col(c).isNull().cast(\"int\")).alias(c)\n",
    "        for c in sparkify_df_cln.columns\n",
    "    ]\n",
    ")\n",
    "\n",
    "missing_val.show()"
   ]
  },
  {
   "cell_type": "code",
   "execution_count": 13,
   "metadata": {},
   "outputs": [],
   "source": [
    "# As firstName and lastName columns are not relevant for the analysis, so dropping theses two columns from dataframe\n",
    "sparkify_df_cln = sparkify_df_cln.drop('firstName', 'lastName')"
   ]
  },
  {
   "cell_type": "markdown",
   "metadata": {},
   "source": [
    "FirsName and LastName columns have been deleted as it's no longer relevant for analysis purposes."
   ]
  },
  {
   "cell_type": "code",
   "execution_count": 14,
   "metadata": {},
   "outputs": [
    {
     "name": "stdout",
     "output_type": "stream",
     "text": [
      "root\n",
      " |-- artist: string (nullable = true)\n",
      " |-- auth: string (nullable = true)\n",
      " |-- gender: string (nullable = true)\n",
      " |-- itemInSession: long (nullable = true)\n",
      " |-- length: double (nullable = true)\n",
      " |-- level: string (nullable = true)\n",
      " |-- location: string (nullable = true)\n",
      " |-- method: string (nullable = true)\n",
      " |-- page: string (nullable = true)\n",
      " |-- registration: long (nullable = true)\n",
      " |-- sessionId: long (nullable = true)\n",
      " |-- song: string (nullable = true)\n",
      " |-- status: long (nullable = true)\n",
      " |-- ts: long (nullable = true)\n",
      " |-- userAgent: string (nullable = true)\n",
      " |-- userId: string (nullable = true)\n",
      "\n"
     ]
    }
   ],
   "source": [
    "# This step is to check if FirstName and LastName have been dropped properly\n",
    "sparkify_df_cln.printSchema()"
   ]
  },
  {
   "cell_type": "code",
   "execution_count": 15,
   "metadata": {},
   "outputs": [
    {
     "name": "stdout",
     "output_type": "stream",
     "text": [
      "+------+----+------+-------------+------+-----+--------+------+----+------------+---------+-----+------+---+---------+------+\n",
      "|artist|auth|gender|itemInSession|length|level|location|method|page|registration|sessionId| song|status| ts|userAgent|userId|\n",
      "+------+----+------+-------------+------+-----+--------+------+----+------------+---------+-----+------+---+---------+------+\n",
      "| 50046|   0|     0|            0| 50046|    0|       0|     0|   0|           0|        0|50046|     0|  0|        0|     0|\n",
      "+------+----+------+-------------+------+-----+--------+------+----+------------+---------+-----+------+---+---------+------+\n",
      "\n"
     ]
    }
   ],
   "source": [
    "# This step is to get missig values of sparkify_df columns\n",
    "missing_val = sparkify_df_cln.select(\n",
    "    [\n",
    "        spark_sum(col(c).isNull().cast(\"int\")).alias(c)\n",
    "        for c in sparkify_df_cln.columns\n",
    "    ]\n",
    ")\n",
    "\n",
    "missing_val.show()"
   ]
  },
  {
   "cell_type": "markdown",
   "metadata": {},
   "source": [
    "Now that we've cleaned most of the variables, it's worth noting that some variables like artist, length, and song still contain null values. While we could simply drop these variables, there's a risk of losing valuable information. Therefore, let's retain these variables and explore their impact further. "
   ]
  },
  {
   "cell_type": "code",
   "execution_count": 16,
   "metadata": {},
   "outputs": [
    {
     "name": "stdout",
     "output_type": "stream",
     "text": [
      "+------+------+------+-------------+------+------+--------+------+------+------------+---------+------+------+------+---------+------+\n",
      "|artist|  auth|gender|itemInSession|length| level|location|method|  page|registration|sessionId|  song|status|    ts|userAgent|userId|\n",
      "+------+------+------+-------------+------+------+--------+------+------+------------+---------+------+------+------+---------+------+\n",
      "|228108|278154|278154|       278154|228108|278154|  278154|278154|278154|      278154|   278154|228108|278154|278154|   278154|278154|\n",
      "+------+------+------+-------------+------+------+--------+------+------+------------+---------+------+------+------+---------+------+\n",
      "\n"
     ]
    }
   ],
   "source": [
    "# This step is to get non missig values of sparkify_df_cln columns\n",
    "\n",
    "non_missing_val = sparkify_df_cln.select(\n",
    "    [\n",
    "        spark_sum(col(c).isNotNull().cast(\"int\")).alias(c)\n",
    "        for c in sparkify_df_cln.columns\n",
    "    ]\n",
    ")\n",
    "\n",
    "non_missing_val.show()"
   ]
  },
  {
   "cell_type": "markdown",
   "metadata": {},
   "source": [
    "Variables Artist, length and Song have same number of not null records, it looks like these are users which interacted but have not played any song.\n",
    "\n",
    "Let's transform ts and registration variables into readable datetime format as current format is Unix based. Two new variables named dateandtime and registration_dateandtime will be created."
   ]
  },
  {
   "cell_type": "code",
   "execution_count": 17,
   "metadata": {},
   "outputs": [],
   "source": [
    "# This step is to create dateandtime variable from ts.\n",
    "sparkify_df_cleaned = sparkify_df_cln.withColumn(\"dateandtime\", from_unixtime(sparkify_df_cln[\"ts\"] / 1000))"
   ]
  },
  {
   "cell_type": "code",
   "execution_count": 18,
   "metadata": {},
   "outputs": [
    {
     "name": "stdout",
     "output_type": "stream",
     "text": [
      "+-------+-------------------+\n",
      "|summary|        dateandtime|\n",
      "+-------+-------------------+\n",
      "|  count|             278154|\n",
      "|   mean|               null|\n",
      "| stddev|               null|\n",
      "|    min|2018-10-01 00:01:57|\n",
      "|    max|2018-12-03 01:11:16|\n",
      "+-------+-------------------+\n",
      "\n"
     ]
    }
   ],
   "source": [
    "# This step is to see dateandtime variable's statistics\n",
    "sparkify_df_cleaned.describe(\"dateandtime\").show()"
   ]
  },
  {
   "cell_type": "code",
   "execution_count": 19,
   "metadata": {},
   "outputs": [],
   "source": [
    "# This step is to create registration_dateandtime variable from registration.\n",
    "sparkify_df_cleaned = sparkify_df_cleaned.withColumn(\"registration_dateandtime\", from_unixtime(sparkify_df_cleaned[\"registration\"] / 1000))"
   ]
  },
  {
   "cell_type": "code",
   "execution_count": 20,
   "metadata": {},
   "outputs": [
    {
     "name": "stdout",
     "output_type": "stream",
     "text": [
      "+-------+------------------------+\n",
      "|summary|registration_dateandtime|\n",
      "+-------+------------------------+\n",
      "|  count|                  278154|\n",
      "|   mean|                    null|\n",
      "| stddev|                    null|\n",
      "|    min|     2018-03-18 13:44:35|\n",
      "|    max|     2018-11-26 15:49:14|\n",
      "+-------+------------------------+\n",
      "\n"
     ]
    }
   ],
   "source": [
    "# This step is to see registration_dateandtime variable's statistics\n",
    "sparkify_df_cleaned.describe(\"registration_dateandtime\").show()"
   ]
  },
  {
   "cell_type": "markdown",
   "metadata": {},
   "source": [
    "Let's create a new variable named days_from_registration which will give us an idea of membership time duration."
   ]
  },
  {
   "cell_type": "code",
   "execution_count": 21,
   "metadata": {},
   "outputs": [],
   "source": [
    "# This step is to create new variable named days_from_registration\n",
    "sparkify_df_cleaned = sparkify_df_cleaned.withColumn(\"days_from_registration\", datediff(sparkify_df_cleaned[\"dateandtime\"], sparkify_df_cleaned[\"registration_dateandtime\"]))"
   ]
  },
  {
   "cell_type": "markdown",
   "metadata": {},
   "source": [
    "Minimum value of days_from registration is -2 so let's see how many such records exists where number of days of registration are in negative."
   ]
  },
  {
   "cell_type": "code",
   "execution_count": 22,
   "metadata": {},
   "outputs": [
    {
     "name": "stdout",
     "output_type": "stream",
     "text": [
      "+-------+----------------------+\n",
      "|summary|days_from_registration|\n",
      "+-------+----------------------+\n",
      "|  count|                   124|\n",
      "|   mean|   -1.8064516129032258|\n",
      "| stddev|   0.39668175187900984|\n",
      "|    min|                    -2|\n",
      "|    max|                    -1|\n",
      "+-------+----------------------+\n",
      "\n"
     ]
    }
   ],
   "source": [
    "# This step is to check days_from_registration variable's statistics\n",
    "sparkify_df_cleaned_chk = sparkify_df_cleaned.filter(sparkify_df_cleaned.days_from_registration < 0)\n",
    "sparkify_df_cleaned_chk.describe(\"days_from_registration\").show()"
   ]
  },
  {
   "cell_type": "markdown",
   "metadata": {},
   "source": [
    "There are only 124 records where registration has happened after the last date and timestamp."
   ]
  },
  {
   "cell_type": "markdown",
   "metadata": {},
   "source": [
    "# Exploratory Data Analysis\n",
    "When you're working with the full dataset, perform EDA by loading a small subset of the data and doing basic manipulations within Spark. In this workspace, you are already provided a small subset of data you can explore.\n",
    "\n",
    "### Define Churn\n",
    "\n",
    "Once you've done some preliminary analysis, create a column `Churn` to use as the label for your model. I suggest using the `Cancellation Confirmation` events to define your churn, which happen for both paid and free users. As a bonus task, you can also look into the `Downgrade` events.\n",
    "\n",
    "### Explore Data\n",
    "Once you've defined churn, perform some exploratory data analysis to observe the behavior for users who stayed vs users who churned. You can start by exploring aggregates on these two groups of users, observing how much of a specific action they experienced per a certain time unit or number of songs played."
   ]
  },
  {
   "cell_type": "code",
   "execution_count": 23,
   "metadata": {
    "scrolled": true
   },
   "outputs": [],
   "source": [
    "sparkify_df_cleaned.createOrReplaceTempView(\"Sparkify_cleaned_View\")"
   ]
  },
  {
   "cell_type": "code",
   "execution_count": 24,
   "metadata": {},
   "outputs": [
    {
     "name": "stdout",
     "output_type": "stream",
     "text": [
      "+--------+\n",
      "|count(1)|\n",
      "+--------+\n",
      "|  278154|\n",
      "+--------+\n",
      "\n"
     ]
    }
   ],
   "source": [
    "# Let's check the total count of rows in Sparkify_cleaned_View\n",
    "spark.sql('''\n",
    "    select count(*) from Sparkify_cleaned_View\n",
    "''').show()"
   ]
  },
  {
   "cell_type": "code",
   "execution_count": 25,
   "metadata": {
    "scrolled": true
   },
   "outputs": [
    {
     "name": "stdout",
     "output_type": "stream",
     "text": [
      "+--------------------+---------+-------+\n",
      "|            col_name|data_type|comment|\n",
      "+--------------------+---------+-------+\n",
      "|              artist|   string|   null|\n",
      "|                auth|   string|   null|\n",
      "|              gender|   string|   null|\n",
      "|       itemInSession|   bigint|   null|\n",
      "|              length|   double|   null|\n",
      "|               level|   string|   null|\n",
      "|            location|   string|   null|\n",
      "|              method|   string|   null|\n",
      "|                page|   string|   null|\n",
      "|        registration|   bigint|   null|\n",
      "|           sessionId|   bigint|   null|\n",
      "|                song|   string|   null|\n",
      "|              status|   bigint|   null|\n",
      "|                  ts|   bigint|   null|\n",
      "|           userAgent|   string|   null|\n",
      "|              userId|   string|   null|\n",
      "|         dateandtime|   string|   null|\n",
      "|registration_date...|   string|   null|\n",
      "|days_from_registr...|      int|   null|\n",
      "+--------------------+---------+-------+\n",
      "\n"
     ]
    }
   ],
   "source": [
    "spark.sql('''\n",
    "    describe Sparkify_cleaned_View\n",
    "''').show()"
   ]
  },
  {
   "cell_type": "markdown",
   "metadata": {},
   "source": [
    "### Artist\n",
    "Let's start analysing from the first column artist"
   ]
  },
  {
   "cell_type": "code",
   "execution_count": 26,
   "metadata": {},
   "outputs": [
    {
     "name": "stdout",
     "output_type": "stream",
     "text": [
      "+--------------------+--------+\n",
      "|              Artist|usr_cnts|\n",
      "+--------------------+--------+\n",
      "|                null|     224|\n",
      "|       Kings Of Leon|     199|\n",
      "|            Coldplay|     189|\n",
      "|       Dwight Yoakam|     189|\n",
      "|Florence + The Ma...|     187|\n",
      "|            BjÃÂ¶rk|     179|\n",
      "|      The Black Keys|     179|\n",
      "|       Justin Bieber|     177|\n",
      "|        Jack Johnson|     173|\n",
      "|        Taylor Swift|     173|\n",
      "|     Alliance Ethnik|     172|\n",
      "|            Harmonia|     172|\n",
      "|       Guns N' Roses|     170|\n",
      "|              Eminem|     169|\n",
      "|               Train|     169|\n",
      "|         OneRepublic|     168|\n",
      "|         The Killers|     168|\n",
      "|           Metallica|     168|\n",
      "|           Radiohead|     167|\n",
      "|                Muse|     166|\n",
      "+--------------------+--------+\n",
      "only showing top 20 rows\n",
      "\n"
     ]
    }
   ],
   "source": [
    "spark.sql('''\n",
    "        SELECT Artist, COUNT(DISTINCT userId) AS usr_cnts\n",
    "        FROM Sparkify_cleaned_View\n",
    "        group by Artist\n",
    "        order by usr_cnts desc\n",
    "''').show()"
   ]
  },
  {
   "cell_type": "markdown",
   "metadata": {},
   "source": [
    "### Auth\n",
    "Let's start analysing from the column auth"
   ]
  },
  {
   "cell_type": "code",
   "execution_count": 27,
   "metadata": {},
   "outputs": [
    {
     "name": "stdout",
     "output_type": "stream",
     "text": [
      "+---------+--------+\n",
      "|     auth|usr_cnts|\n",
      "+---------+--------+\n",
      "|Logged In|     225|\n",
      "|Cancelled|      52|\n",
      "+---------+--------+\n",
      "\n"
     ]
    }
   ],
   "source": [
    "spark.sql('''\n",
    "        SELECT auth, COUNT(DISTINCT userId) AS usr_cnts\n",
    "        FROM Sparkify_cleaned_View\n",
    "        group by auth\n",
    "        order by usr_cnts desc\n",
    "''').show()"
   ]
  },
  {
   "cell_type": "markdown",
   "metadata": {},
   "source": [
    "### Gender\n",
    "Let's start analysing from the column gender"
   ]
  },
  {
   "cell_type": "code",
   "execution_count": 28,
   "metadata": {},
   "outputs": [
    {
     "name": "stdout",
     "output_type": "stream",
     "text": [
      "+------+--------+\n",
      "|gender|usr_cnts|\n",
      "+------+--------+\n",
      "|     M|     121|\n",
      "|     F|     104|\n",
      "+------+--------+\n",
      "\n"
     ]
    }
   ],
   "source": [
    "spark.sql('''\n",
    "        SELECT gender, COUNT(DISTINCT userId) AS usr_cnts\n",
    "        FROM Sparkify_cleaned_View\n",
    "        group by gender\n",
    "        order by usr_cnts desc\n",
    "''').show()"
   ]
  },
  {
   "cell_type": "markdown",
   "metadata": {},
   "source": [
    "### itemInSession\n",
    "Let's start analysing from the column itemInSession"
   ]
  },
  {
   "cell_type": "code",
   "execution_count": 29,
   "metadata": {},
   "outputs": [
    {
     "name": "stdout",
     "output_type": "stream",
     "text": [
      "+-------------+--------+\n",
      "|itemInSession|usr_cnts|\n",
      "+-------------+--------+\n",
      "|            2|     224|\n",
      "|            4|     224|\n",
      "|            3|     224|\n",
      "|            5|     224|\n",
      "|           13|     223|\n",
      "|            8|     223|\n",
      "|            7|     223|\n",
      "|           14|     223|\n",
      "|            9|     223|\n",
      "|            6|     223|\n",
      "|           12|     222|\n",
      "|           15|     222|\n",
      "|            1|     222|\n",
      "|           16|     222|\n",
      "|           21|     221|\n",
      "|           10|     221|\n",
      "|           20|     221|\n",
      "|           19|     221|\n",
      "|           17|     221|\n",
      "|           11|     220|\n",
      "+-------------+--------+\n",
      "only showing top 20 rows\n",
      "\n"
     ]
    }
   ],
   "source": [
    "spark.sql('''\n",
    "        SELECT itemInSession, COUNT(DISTINCT userId) AS usr_cnts\n",
    "        FROM Sparkify_cleaned_View\n",
    "        group by itemInSession\n",
    "        order by usr_cnts desc\n",
    "''').show()"
   ]
  },
  {
   "cell_type": "markdown",
   "metadata": {},
   "source": [
    "### level\n",
    "Let's start analysing from the column level"
   ]
  },
  {
   "cell_type": "code",
   "execution_count": 30,
   "metadata": {},
   "outputs": [
    {
     "name": "stdout",
     "output_type": "stream",
     "text": [
      "+-----+--------+\n",
      "|level|usr_cnts|\n",
      "+-----+--------+\n",
      "| free|     195|\n",
      "| paid|     165|\n",
      "+-----+--------+\n",
      "\n"
     ]
    }
   ],
   "source": [
    "spark.sql('''\n",
    "        SELECT level, COUNT(DISTINCT userId) AS usr_cnts\n",
    "        FROM Sparkify_cleaned_View\n",
    "        group by level\n",
    "        order by usr_cnts desc\n",
    "''').show()"
   ]
  },
  {
   "cell_type": "markdown",
   "metadata": {},
   "source": [
    "### Page\n",
    "Let's start analysing from the column page"
   ]
  },
  {
   "cell_type": "code",
   "execution_count": 31,
   "metadata": {},
   "outputs": [
    {
     "name": "stdout",
     "output_type": "stream",
     "text": [
      "+--------------------+--------+\n",
      "|                page|usr_cnts|\n",
      "+--------------------+--------+\n",
      "|            NextSong|  228108|\n",
      "|           Thumbs Up|   12551|\n",
      "|                Home|   10082|\n",
      "|     Add to Playlist|    6526|\n",
      "|          Add Friend|    4277|\n",
      "|         Roll Advert|    3933|\n",
      "|              Logout|    3226|\n",
      "|         Thumbs Down|    2546|\n",
      "|           Downgrade|    2055|\n",
      "|            Settings|    1514|\n",
      "|                Help|    1454|\n",
      "|             Upgrade|     499|\n",
      "|               About|     495|\n",
      "|       Save Settings|     310|\n",
      "|               Error|     252|\n",
      "|      Submit Upgrade|     159|\n",
      "|    Submit Downgrade|      63|\n",
      "|              Cancel|      52|\n",
      "|Cancellation Conf...|      52|\n",
      "+--------------------+--------+\n",
      "\n"
     ]
    }
   ],
   "source": [
    "spark.sql('''\n",
    "        SELECT page,COUNT(userId) AS usr_cnts\n",
    "        FROM Sparkify_cleaned_View\n",
    "        GROUP BY page\n",
    "        ORDER BY usr_cnts DESC\n",
    "''').show()"
   ]
  },
  {
   "cell_type": "markdown",
   "metadata": {},
   "source": [
    "### userAgent\n",
    "Let's start analysing from the column userAgent"
   ]
  },
  {
   "cell_type": "code",
   "execution_count": 32,
   "metadata": {},
   "outputs": [
    {
     "name": "stdout",
     "output_type": "stream",
     "text": [
      "+--------------------+--------+\n",
      "|           userAgent|usr_cnts|\n",
      "+--------------------+--------+\n",
      "|\"Mozilla/5.0 (Win...|   22751|\n",
      "|\"Mozilla/5.0 (Mac...|   19611|\n",
      "|\"Mozilla/5.0 (Mac...|   18448|\n",
      "|\"Mozilla/5.0 (Mac...|   17348|\n",
      "|Mozilla/5.0 (Wind...|   16700|\n",
      "|\"Mozilla/5.0 (Win...|   15395|\n",
      "|\"Mozilla/5.0 (Win...|   14598|\n",
      "|Mozilla/5.0 (Maci...|   10300|\n",
      "|\"Mozilla/5.0 (iPa...|    8912|\n",
      "|Mozilla/5.0 (comp...|    8624|\n",
      "|\"Mozilla/5.0 (Mac...|    8094|\n",
      "|\"Mozilla/5.0 (Win...|    7923|\n",
      "|\"Mozilla/5.0 (Mac...|    7906|\n",
      "|\"Mozilla/5.0 (Win...|    7624|\n",
      "|\"Mozilla/5.0 (iPh...|    6417|\n",
      "|Mozilla/5.0 (Wind...|    5989|\n",
      "|\"Mozilla/5.0 (Mac...|    5716|\n",
      "|\"Mozilla/5.0 (Win...|    5238|\n",
      "|\"Mozilla/5.0 (Win...|    4917|\n",
      "|Mozilla/5.0 (Wind...|    4663|\n",
      "+--------------------+--------+\n",
      "only showing top 20 rows\n",
      "\n"
     ]
    }
   ],
   "source": [
    "spark.sql('''\n",
    "        SELECT userAgent, COUNT(userId) AS usr_cnts\n",
    "        FROM Sparkify_cleaned_View\n",
    "        GROUP BY userAgent\n",
    "        ORDER BY usr_cnts DESC\n",
    "''').show()"
   ]
  },
  {
   "cell_type": "markdown",
   "metadata": {},
   "source": [
    "### Define Churn\n",
    "Once you've done some preliminary analysis, create a column Churn to use as the label for your model. I suggest using the Cancellation Confirmation events to define your churn, which happen for both paid and free users. As a bonus task, you can also look into the Downgrade events."
   ]
  },
  {
   "cell_type": "code",
   "execution_count": 33,
   "metadata": {},
   "outputs": [
    {
     "name": "stdout",
     "output_type": "stream",
     "text": [
      "+--------------------+\n",
      "|                Page|\n",
      "+--------------------+\n",
      "|              Cancel|\n",
      "|    Submit Downgrade|\n",
      "|         Thumbs Down|\n",
      "|                Home|\n",
      "|           Downgrade|\n",
      "|         Roll Advert|\n",
      "|              Logout|\n",
      "|       Save Settings|\n",
      "|Cancellation Conf...|\n",
      "|               About|\n",
      "|            Settings|\n",
      "|     Add to Playlist|\n",
      "|          Add Friend|\n",
      "|            NextSong|\n",
      "|           Thumbs Up|\n",
      "|                Help|\n",
      "|             Upgrade|\n",
      "|               Error|\n",
      "|      Submit Upgrade|\n",
      "+--------------------+\n",
      "\n"
     ]
    }
   ],
   "source": [
    "spark.sql('''\n",
    "        SELECT distinct page as Page\n",
    "        FROM Sparkify_cleaned_View\n",
    "        GROUP BY page\n",
    "''').show()"
   ]
  },
  {
   "cell_type": "code",
   "execution_count": 34,
   "metadata": {},
   "outputs": [
    {
     "data": {
      "text/plain": [
       "[Row(page='Cancel'),\n",
       " Row(page='Submit Downgrade'),\n",
       " Row(page='Thumbs Down'),\n",
       " Row(page='Home'),\n",
       " Row(page='Downgrade'),\n",
       " Row(page='Roll Advert'),\n",
       " Row(page='Logout'),\n",
       " Row(page='Save Settings'),\n",
       " Row(page='Cancellation Confirmation'),\n",
       " Row(page='About'),\n",
       " Row(page='Settings'),\n",
       " Row(page='Add to Playlist'),\n",
       " Row(page='Add Friend'),\n",
       " Row(page='NextSong'),\n",
       " Row(page='Thumbs Up'),\n",
       " Row(page='Help'),\n",
       " Row(page='Upgrade'),\n",
       " Row(page='Error'),\n",
       " Row(page='Submit Upgrade')]"
      ]
     },
     "execution_count": 34,
     "metadata": {},
     "output_type": "execute_result"
    }
   ],
   "source": [
    "sparkify_df_cleaned.select('page').distinct().collect()"
   ]
  },
  {
   "cell_type": "code",
   "execution_count": 35,
   "metadata": {},
   "outputs": [
    {
     "data": {
      "text/plain": [
       "52"
      ]
     },
     "execution_count": 35,
     "metadata": {},
     "output_type": "execute_result"
    }
   ],
   "source": [
    "# This step is to get count of users who have cancelled\n",
    "sparkify_df_cleaned.filter(col('page') == 'Cancellation Confirmation').select('userId').dropDuplicates().count()"
   ]
  },
  {
   "cell_type": "code",
   "execution_count": 36,
   "metadata": {},
   "outputs": [
    {
     "data": {
      "text/plain": [
       "49"
      ]
     },
     "execution_count": 36,
     "metadata": {},
     "output_type": "execute_result"
    }
   ],
   "source": [
    "# This step is to get count of users who have downgraded\n",
    "sparkify_df_cleaned.filter(col('page') == 'Submit Downgrade').select('userId').distinct().count()"
   ]
  },
  {
   "cell_type": "code",
   "execution_count": 37,
   "metadata": {},
   "outputs": [
    {
     "data": {
      "text/plain": [
       "9"
      ]
     },
     "execution_count": 37,
     "metadata": {},
     "output_type": "execute_result"
    }
   ],
   "source": [
    "# This step is to get the count of users that downgrade AND cancel the subscription\n",
    "sparkify_df_cleaned.filter(col('page') == 'Submit Downgrade').select('userId').distinct().intersect(sparkify_df_cleaned.filter(col('page') == 'Cancellation Confirmation').select('userId').dropDuplicates()).count()"
   ]
  },
  {
   "cell_type": "markdown",
   "metadata": {},
   "source": [
    "There are 52 users who have cancelled their subscription, while 49 users have downgraded. Interestingly, 9 users have taken both actions. Given the relatively low number of churned users, building a reliable statistical model becomes challenging. With such a small sample size, achieving consistent predictions across various data splits, even with different random seeds, presents a considerable challenge"
   ]
  },
  {
   "cell_type": "code",
   "execution_count": 38,
   "metadata": {},
   "outputs": [],
   "source": [
    "# This function is to add churn label\n",
    "def add_churn_var(df):\n",
    "\n",
    "    cancelled_users = (col('page').isin(['Cancellation Confirmation', 'Cancel'])) | (col('auth') == 'Cancelled')\n",
    "    churn_label = when(cancelled_users, 1).otherwise(0)\n",
    "    churn_user = df.groupby('userId').agg(spark_sum(churn_label).alias('churn_count'))\n",
    "    churn_user = churn_user.withColumn('churn', when(col('churn_count') >= 1, 1).otherwise(0))\n",
    "    churn_df = df.join(churn_user.select('userId', 'churn'), on='userId', how='left')\n",
    "\n",
    "    return churn_df"
   ]
  },
  {
   "cell_type": "code",
   "execution_count": 39,
   "metadata": {},
   "outputs": [],
   "source": [
    "# This function is to add churn label in sparkify_df_cleaned\n",
    "sparkify_df_flg = add_churn_var(sparkify_df_cleaned)"
   ]
  },
  {
   "cell_type": "code",
   "execution_count": 40,
   "metadata": {},
   "outputs": [
    {
     "name": "stdout",
     "output_type": "stream",
     "text": [
      "+------+--------------------+---------+------+-------------+---------+-----+--------------------+------+-----------+-------------+---------+--------------------+------+-------------+--------------------+-------------------+------------------------+----------------------+-----+\n",
      "|userId|              artist|     auth|gender|itemInSession|   length|level|            location|method|       page| registration|sessionId|                song|status|           ts|           userAgent|        dateandtime|registration_dateandtime|days_from_registration|churn|\n",
      "+------+--------------------+---------+------+-------------+---------+-----+--------------------+------+-----------+-------------+---------+--------------------+------+-------------+--------------------+-------------------+------------------------+----------------------+-----+\n",
      "|100010|Sleeping With Sirens|Logged In|     F|            0|202.97098| free|Bridgeport-Stamfo...|   PUT|   NextSong|1538016340000|       31|Captain Tyin Knot...|   200|1539003534000|\"Mozilla/5.0 (iPh...|2018-10-08 12:58:54|     2018-09-27 02:45:40|                    11|    0|\n",
      "|100010|Francesca Battist...|Logged In|     F|            1|196.54485| free|Bridgeport-Stamfo...|   PUT|   NextSong|1538016340000|       31|Beautiful_ Beauti...|   200|1539003736000|\"Mozilla/5.0 (iPh...|2018-10-08 13:02:16|     2018-09-27 02:45:40|                    11|    0|\n",
      "|100010|              Brutha|Logged In|     F|            2|263.13098| free|Bridgeport-Stamfo...|   PUT|   NextSong|1538016340000|       31|          She's Gone|   200|1539003932000|\"Mozilla/5.0 (iPh...|2018-10-08 13:05:32|     2018-09-27 02:45:40|                    11|    0|\n",
      "|100010|                null|Logged In|     F|            3|     null| free|Bridgeport-Stamfo...|   PUT|  Thumbs Up|1538016340000|       31|                null|   307|1539003933000|\"Mozilla/5.0 (iPh...|2018-10-08 13:05:33|     2018-09-27 02:45:40|                    11|    0|\n",
      "|100010|         Josh Ritter|Logged In|     F|            4|316.23791| free|Bridgeport-Stamfo...|   PUT|   NextSong|1538016340000|       31|      Folk Bloodbath|   200|1539004195000|\"Mozilla/5.0 (iPh...|2018-10-08 13:09:55|     2018-09-27 02:45:40|                    11|    0|\n",
      "|100010|               LMFAO|Logged In|     F|            5|183.74485| free|Bridgeport-Stamfo...|   PUT|   NextSong|1538016340000|       31|                 Yes|   200|1539004511000|\"Mozilla/5.0 (iPh...|2018-10-08 13:15:11|     2018-09-27 02:45:40|                    11|    0|\n",
      "|100010|         OneRepublic|Logged In|     F|            6|224.67873| free|Bridgeport-Stamfo...|   PUT|   NextSong|1538016340000|       31|             Secrets|   200|1539004694000|\"Mozilla/5.0 (iPh...|2018-10-08 13:18:14|     2018-09-27 02:45:40|                    11|    0|\n",
      "|100010|       Dwight Yoakam|Logged In|     F|            7| 239.3073| free|Bridgeport-Stamfo...|   PUT|   NextSong|1538016340000|       31|      You're The One|   200|1539004918000|\"Mozilla/5.0 (iPh...|2018-10-08 13:21:58|     2018-09-27 02:45:40|                    11|    0|\n",
      "|100010|                null|Logged In|     F|            8|     null| free|Bridgeport-Stamfo...|   GET|Roll Advert|1538016340000|       31|                null|   200|1539004961000|\"Mozilla/5.0 (iPh...|2018-10-08 13:22:41|     2018-09-27 02:45:40|                    11|    0|\n",
      "|100010|      The Chordettes|Logged In|     F|            9|142.41914| free|Bridgeport-Stamfo...|   PUT|   NextSong|1538016340000|       31|          Mr Sandman|   200|1539005157000|\"Mozilla/5.0 (iPh...|2018-10-08 13:25:57|     2018-09-27 02:45:40|                    11|    0|\n",
      "|100010|Coko featuring Ki...|Logged In|     F|           10| 249.3122| free|Bridgeport-Stamfo...|   PUT|   NextSong|1538016340000|       31|           I Get Joy|   200|1539005299000|\"Mozilla/5.0 (iPh...|2018-10-08 13:28:19|     2018-09-27 02:45:40|                    11|    0|\n",
      "|100010|            The Cure|Logged In|     F|           11| 52.27057| free|Bridgeport-Stamfo...|   PUT|   NextSong|1538016340000|       31|     The Final Sound|   200|1539005548000|\"Mozilla/5.0 (iPh...|2018-10-08 13:32:28|     2018-09-27 02:45:40|                    11|    0|\n",
      "|100010|                null|Logged In|     F|           12|     null| free|Bridgeport-Stamfo...|   GET|Roll Advert|1538016340000|       31|                null|   200|1539005571000|\"Mozilla/5.0 (iPh...|2018-10-08 13:32:51|     2018-09-27 02:45:40|                    11|    0|\n",
      "|100010|Kid Cudi Vs Crookers|Logged In|     F|           13|162.97751| free|Bridgeport-Stamfo...|   PUT|   NextSong|1538016340000|       31|        Day 'N' Nite|   200|1539005600000|\"Mozilla/5.0 (iPh...|2018-10-08 13:33:20|     2018-09-27 02:45:40|                    11|    0|\n",
      "|100010|                null|Logged In|     F|           14|     null| free|Bridgeport-Stamfo...|   PUT|  Thumbs Up|1538016340000|       31|                null|   307|1539005601000|\"Mozilla/5.0 (iPh...|2018-10-08 13:33:21|     2018-09-27 02:45:40|                    11|    0|\n",
      "|100010|            Yeasayer|Logged In|     F|           15|323.44771| free|Bridgeport-Stamfo...|   PUT|   NextSong|1538016340000|       31|                2080|   200|1539005762000|\"Mozilla/5.0 (iPh...|2018-10-08 13:36:02|     2018-09-27 02:45:40|                    11|    0|\n",
      "|100010|             Ben Lee|Logged In|     F|           16|245.78567| free|Bridgeport-Stamfo...|   PUT|   NextSong|1538016340000|       31|        Ache For You|   200|1539006085000|\"Mozilla/5.0 (iPh...|2018-10-08 13:41:25|     2018-09-27 02:45:40|                    11|    0|\n",
      "|100010|                null|Logged In|     F|           17|     null| free|Bridgeport-Stamfo...|   GET|Roll Advert|1538016340000|       31|                null|   200|1539006103000|\"Mozilla/5.0 (iPh...|2018-10-08 13:41:43|     2018-09-27 02:45:40|                    11|    0|\n",
      "|100010|  ? & The Mysterians|Logged In|     F|           18|128.10404| free|Bridgeport-Stamfo...|   PUT|   NextSong|1538016340000|       31|    Just Like A Rose|   200|1539006330000|\"Mozilla/5.0 (iPh...|2018-10-08 13:45:30|     2018-09-27 02:45:40|                    11|    0|\n",
      "|100010|                null|Logged In|     F|           19|     null| free|Bridgeport-Stamfo...|   GET|Roll Advert|1538016340000|       31|                null|   200|1539006331000|\"Mozilla/5.0 (iPh...|2018-10-08 13:45:31|     2018-09-27 02:45:40|                    11|    0|\n",
      "+------+--------------------+---------+------+-------------+---------+-----+--------------------+------+-----------+-------------+---------+--------------------+------+-------------+--------------------+-------------------+------------------------+----------------------+-----+\n",
      "only showing top 20 rows\n",
      "\n"
     ]
    }
   ],
   "source": [
    "sparkify_df_flg.show()"
   ]
  },
  {
   "cell_type": "code",
   "execution_count": 41,
   "metadata": {},
   "outputs": [
    {
     "name": "stdout",
     "output_type": "stream",
     "text": [
      "+-------+-------------------+\n",
      "|summary|              churn|\n",
      "+-------+-------------------+\n",
      "|  count|             278154|\n",
      "|   mean|0.16129194618808287|\n",
      "| stddev|0.36780068056308857|\n",
      "|    min|                  0|\n",
      "|    max|                  1|\n",
      "+-------+-------------------+\n",
      "\n"
     ]
    }
   ],
   "source": [
    "# This step is to check the show summary statistics of Churn variable\n",
    "sparkify_df_flg.describe('churn').show()"
   ]
  },
  {
   "cell_type": "markdown",
   "metadata": {},
   "source": [
    "# Music Engagement Analysis"
   ]
  },
  {
   "cell_type": "markdown",
   "metadata": {},
   "source": [
    "Theses steps are mainly to analyse the scenarios where churn has happened."
   ]
  },
  {
   "cell_type": "code",
   "execution_count": 42,
   "metadata": {},
   "outputs": [],
   "source": [
    "# This step is to update temporary view\n",
    "sparkify_df_flg.createOrReplaceTempView(\"Sparkify_cleaned_View\")"
   ]
  },
  {
   "cell_type": "code",
   "execution_count": 43,
   "metadata": {},
   "outputs": [
    {
     "name": "stdout",
     "output_type": "stream",
     "text": [
      "+--------------------+---------+-------+\n",
      "|            col_name|data_type|comment|\n",
      "+--------------------+---------+-------+\n",
      "|              userId|   string|   null|\n",
      "|              artist|   string|   null|\n",
      "|                auth|   string|   null|\n",
      "|              gender|   string|   null|\n",
      "|       itemInSession|   bigint|   null|\n",
      "|              length|   double|   null|\n",
      "|               level|   string|   null|\n",
      "|            location|   string|   null|\n",
      "|              method|   string|   null|\n",
      "|                page|   string|   null|\n",
      "|        registration|   bigint|   null|\n",
      "|           sessionId|   bigint|   null|\n",
      "|                song|   string|   null|\n",
      "|              status|   bigint|   null|\n",
      "|                  ts|   bigint|   null|\n",
      "|           userAgent|   string|   null|\n",
      "|         dateandtime|   string|   null|\n",
      "|registration_date...|   string|   null|\n",
      "|days_from_registr...|      int|   null|\n",
      "|               churn|      int|   null|\n",
      "+--------------------+---------+-------+\n",
      "\n"
     ]
    }
   ],
   "source": [
    "# This step is to check variables of Sparkify_cleaned_View\n",
    "spark.sql('''\n",
    "    describe Sparkify_cleaned_View\n",
    "''').show()"
   ]
  },
  {
   "cell_type": "code",
   "execution_count": 44,
   "metadata": {},
   "outputs": [
    {
     "name": "stdout",
     "output_type": "stream",
     "text": [
      "+------+---------+-----+--------------------+-------------------+-----+\n",
      "|userId|     auth|level|                page|        dateandtime|churn|\n",
      "+------+---------+-----+--------------------+-------------------+-----+\n",
      "|100007|Cancelled| paid|Cancellation Conf...|2018-11-29 11:45:09|    1|\n",
      "|100007|Logged In| paid|              Cancel|2018-11-29 11:45:07|    1|\n",
      "|100007|Logged In| paid|           Downgrade|2018-11-29 11:45:06|    1|\n",
      "|100007|Logged In| paid|            NextSong|2018-11-29 11:44:37|    1|\n",
      "|100007|Logged In| paid|            NextSong|2018-11-29 11:42:58|    1|\n",
      "|100007|Logged In| paid|         Thumbs Down|2018-11-29 11:39:42|    1|\n",
      "|100007|Logged In| paid|            NextSong|2018-11-29 11:39:41|    1|\n",
      "|100007|Logged In| paid|            NextSong|2018-11-29 11:36:03|    1|\n",
      "|100007|Logged In| paid|           Thumbs Up|2018-11-29 11:32:25|    1|\n",
      "|100007|Logged In| paid|            NextSong|2018-11-29 11:32:24|    1|\n",
      "+------+---------+-----+--------------------+-------------------+-----+\n",
      "only showing top 10 rows\n",
      "\n"
     ]
    }
   ],
   "source": [
    "# This step is to check  userId, auth, level, page, dateandtime where churn has happened\n",
    "spark.sql('''\n",
    "          SELECT userId, auth, level, page, dateandtime, churn\n",
    "          FROM Sparkify_cleaned_View \n",
    "          WHERE churn == 1\n",
    "          and dateandtime is not NULL\n",
    "          ORDER BY dateandtime DESC\n",
    "          '''\n",
    "         ).show(10)"
   ]
  },
  {
   "cell_type": "code",
   "execution_count": 45,
   "metadata": {},
   "outputs": [
    {
     "name": "stdout",
     "output_type": "stream",
     "text": [
      "+------+----------------------------------------------------------------------------------------------+\n",
      "|userId|max(churn) OVER (PARTITION BY userID ROWS BETWEEN UNBOUNDED PRECEDING AND UNBOUNDED FOLLOWING)|\n",
      "+------+----------------------------------------------------------------------------------------------+\n",
      "|    30|                                                                                             0|\n",
      "|     9|                                                                                             0|\n",
      "|    30|                                                                                             0|\n",
      "|     9|                                                                                             0|\n",
      "|    30|                                                                                             0|\n",
      "|     9|                                                                                             0|\n",
      "|     9|                                                                                             0|\n",
      "|    30|                                                                                             0|\n",
      "|    30|                                                                                             0|\n",
      "|    30|                                                                                             0|\n",
      "+------+----------------------------------------------------------------------------------------------+\n",
      "only showing top 10 rows\n",
      "\n"
     ]
    }
   ],
   "source": [
    "# This step is to create maximun churn for each user\n",
    "spark.sql('''\n",
    "          SELECT userId, max(churn)\n",
    "          OVER (PARTITION BY userID)\n",
    "          FROM Sparkify_cleaned_View \n",
    "          ORDER BY dateandtime asc\n",
    "          '''\n",
    "         ).show(10)"
   ]
  },
  {
   "cell_type": "markdown",
   "metadata": {},
   "source": [
    "#### Let's see how many users have Downgraded"
   ]
  },
  {
   "cell_type": "code",
   "execution_count": 46,
   "metadata": {},
   "outputs": [
    {
     "name": "stdout",
     "output_type": "stream",
     "text": [
      "+----------------------+\n",
      "|count(DISTINCT userId)|\n",
      "+----------------------+\n",
      "|                   154|\n",
      "+----------------------+\n",
      "\n"
     ]
    }
   ],
   "source": [
    "# This step is to get the count of the users who have downgraded\n",
    "spark.sql('''\n",
    "          SELECT COUNT(DISTINCT userId)\n",
    "          FROM Sparkify_cleaned_View \n",
    "          WHERE page == 'Downgrade'  \n",
    "          '''\n",
    "         ).show()"
   ]
  },
  {
   "cell_type": "code",
   "execution_count": 47,
   "metadata": {},
   "outputs": [
    {
     "name": "stdout",
     "output_type": "stream",
     "text": [
      "Percentage of users who have downgraded: 68.44%\n"
     ]
    }
   ],
   "source": [
    "# This step is to get the percentage of users who have downgraded\n",
    "downgrade_cnt = spark.sql('''\n",
    "    SELECT COUNT(DISTINCT userId) AS downgrade_count\n",
    "    FROM Sparkify_cleaned_View \n",
    "    WHERE page = 'Downgrade'\n",
    "    '''\n",
    ").first()[0]\n",
    "\n",
    "tot_users_cnt = spark.sql('''\n",
    "    SELECT COUNT(DISTINCT userId) AS total_users_count\n",
    "    FROM Sparkify_cleaned_View\n",
    "    '''\n",
    ").first()[0]\n",
    "\n",
    "downgrade_percent = (downgrade_cnt / tot_users_cnt) * 100\n",
    "\n",
    "print(\"Percentage of users who have downgraded: {:.2f}%\".format(downgrade_percent))\n"
   ]
  },
  {
   "cell_type": "markdown",
   "metadata": {},
   "source": [
    "#### Let's see how many total users we have in sparkify_cleaned_View "
   ]
  },
  {
   "cell_type": "code",
   "execution_count": 48,
   "metadata": {},
   "outputs": [
    {
     "name": "stdout",
     "output_type": "stream",
     "text": [
      "+----------------------+\n",
      "|count(DISTINCT userId)|\n",
      "+----------------------+\n",
      "|                   225|\n",
      "+----------------------+\n",
      "\n"
     ]
    }
   ],
   "source": [
    "spark.sql('''\n",
    "          SELECT COUNT(DISTINCT userId)\n",
    "          FROM Sparkify_cleaned_View   \n",
    "          '''\n",
    "         ).show()"
   ]
  },
  {
   "cell_type": "markdown",
   "metadata": {},
   "source": [
    "There are 49 users who have downgraded"
   ]
  },
  {
   "cell_type": "code",
   "execution_count": 49,
   "metadata": {},
   "outputs": [
    {
     "name": "stdout",
     "output_type": "stream",
     "text": [
      "+----------------------+\n",
      "|count(DISTINCT userId)|\n",
      "+----------------------+\n",
      "|                    49|\n",
      "+----------------------+\n",
      "\n"
     ]
    }
   ],
   "source": [
    "spark.sql('''\n",
    "          SELECT COUNT(DISTINCT userId)\n",
    "          FROM Sparkify_cleaned_View \n",
    "          WHERE page == 'Submit Downgrade'\n",
    "          '''\n",
    "         ).show()"
   ]
  },
  {
   "cell_type": "code",
   "execution_count": 50,
   "metadata": {
    "scrolled": true
   },
   "outputs": [
    {
     "name": "stdout",
     "output_type": "stream",
     "text": [
      "+------+--------------------+-----+-----+\n",
      "|userId|                page|churn|level|\n",
      "+------+--------------------+-----+-----+\n",
      "|   100|    Submit Downgrade|    0| paid|\n",
      "|100001|Cancellation Conf...|    1| free|\n",
      "|100003|Cancellation Conf...|    1| free|\n",
      "|100004|    Submit Downgrade|    0| paid|\n",
      "|100005|Cancellation Conf...|    1| free|\n",
      "+------+--------------------+-----+-----+\n",
      "only showing top 5 rows\n",
      "\n"
     ]
    }
   ],
   "source": [
    "# This step is to get the users details who have either downgraded or have cancelled the subscription\n",
    "\n",
    "spark.sql('''\n",
    "          SELECT DISTINCT userId, page, churn, level\n",
    "          FROM Sparkify_cleaned_View \n",
    "          WHERE page == 'Submit Downgrade' OR page == 'Cancellation Confirmation'\n",
    "          ORDER BY userId\n",
    "          '''\n",
    "         ).show(5)"
   ]
  },
  {
   "cell_type": "code",
   "execution_count": 51,
   "metadata": {},
   "outputs": [],
   "source": [
    "# This step is to Define column transformation using when function\n",
    "sparkify_df_flg = sparkify_df_flg.withColumn(\"downgrade_click\", when(sparkify_df_flg[\"page\"] == \"Submit Downgrade\", 1).otherwise(0))"
   ]
  },
  {
   "cell_type": "code",
   "execution_count": 52,
   "metadata": {},
   "outputs": [
    {
     "data": {
      "text/plain": [
       "DataFrame[summary: string, userId: string, artist: string, auth: string, gender: string, itemInSession: string, length: string, level: string, location: string, method: string, page: string, registration: string, sessionId: string, song: string, status: string, ts: string, userAgent: string, dateandtime: string, registration_dateandtime: string, days_from_registration: string, churn: string, downgrade_click: string]"
      ]
     },
     "execution_count": 52,
     "metadata": {},
     "output_type": "execute_result"
    }
   ],
   "source": [
    "sparkify_df_flg.describe()"
   ]
  },
  {
   "cell_type": "code",
   "execution_count": 53,
   "metadata": {},
   "outputs": [],
   "source": [
    "# Add a new column \"total_downgrad_clk\" with the cumulative sum of \"downgrade_click\" per user\n",
    "sparkify_df_flg = sparkify_df_flg.withColumn(\"total_downgrad_clk\", spark_sum(\"downgrade_click\").over(Window.partitionBy('userId')))"
   ]
  },
  {
   "cell_type": "code",
   "execution_count": 54,
   "metadata": {},
   "outputs": [],
   "source": [
    "# This step is to update temporary view\n",
    "sparkify_df_flg.createOrReplaceTempView(\"Sparkify_cleaned_View\")"
   ]
  },
  {
   "cell_type": "code",
   "execution_count": 55,
   "metadata": {},
   "outputs": [
    {
     "name": "stdout",
     "output_type": "stream",
     "text": [
      "+--------------------+---------+-------+\n",
      "|            col_name|data_type|comment|\n",
      "+--------------------+---------+-------+\n",
      "|              userId|   string|   null|\n",
      "|              artist|   string|   null|\n",
      "|                auth|   string|   null|\n",
      "|              gender|   string|   null|\n",
      "|       itemInSession|   bigint|   null|\n",
      "|              length|   double|   null|\n",
      "|               level|   string|   null|\n",
      "|            location|   string|   null|\n",
      "|              method|   string|   null|\n",
      "|                page|   string|   null|\n",
      "|        registration|   bigint|   null|\n",
      "|           sessionId|   bigint|   null|\n",
      "|                song|   string|   null|\n",
      "|              status|   bigint|   null|\n",
      "|                  ts|   bigint|   null|\n",
      "|           userAgent|   string|   null|\n",
      "|         dateandtime|   string|   null|\n",
      "|registration_date...|   string|   null|\n",
      "|days_from_registr...|      int|   null|\n",
      "|               churn|      int|   null|\n",
      "+--------------------+---------+-------+\n",
      "only showing top 20 rows\n",
      "\n"
     ]
    }
   ],
   "source": [
    "spark.sql('''\n",
    "    describe Sparkify_cleaned_View\n",
    "''').show()"
   ]
  },
  {
   "cell_type": "code",
   "execution_count": 56,
   "metadata": {},
   "outputs": [
    {
     "name": "stdout",
     "output_type": "stream",
     "text": [
      "+-----+------------------+-----------+\n",
      "|Churn|total_downgrad_clk|no_of_users|\n",
      "+-----+------------------+-----------+\n",
      "|    0|                 0|        133|\n",
      "|    0|                 1|         28|\n",
      "|    0|                 2|         10|\n",
      "|    0|                 3|          2|\n",
      "|    1|                 0|         43|\n",
      "|    1|                 1|          9|\n",
      "+-----+------------------+-----------+\n",
      "\n"
     ]
    }
   ],
   "source": [
    "spark.sql('''\n",
    "        SELECT Churn, total_downgrad_clk, COUNT(DISTINCT userId) AS no_of_users\n",
    "        FROM Sparkify_cleaned_View\n",
    "        GROUP BY Churn , total_downgrad_clk \n",
    "        ORDER BY Churn ASC, total_downgrad_clk ASC\n",
    "        ''').show()"
   ]
  },
  {
   "cell_type": "code",
   "execution_count": 57,
   "metadata": {
    "scrolled": true
   },
   "outputs": [
    {
     "data": {
      "image/png": "[encoded data removed]",
      "text/plain": [
       "<matplotlib.figure.Figure at 0x7f431ffe4cf8>"
      ]
     },
     "metadata": {
      "needs_background": "light"
     },
     "output_type": "display_data"
    },
    {
     "data": {
      "image/png": "[encoded data removed]",
      "text/plain": [
       "<matplotlib.figure.Figure at 0x7f434742fa90>"
      ]
     },
     "metadata": {
      "needs_background": "light"
     },
     "output_type": "display_data"
    },
    {
     "data": {
      "image/png": "[encoded data removed]",
      "text/plain": [
       "<matplotlib.figure.Figure at 0x7f43644015f8>"
      ]
     },
     "metadata": {
      "needs_background": "light"
     },
     "output_type": "display_data"
    },
    {
     "data": {
      "image/png": "[encoded data removed]",
      "text/plain": [
       "<matplotlib.figure.Figure at 0x7f436468cf28>"
      ]
     },
     "metadata": {
      "needs_background": "light"
     },
     "output_type": "display_data"
    }
   ],
   "source": [
    "# Fetch data for churned and non-churned users\n",
    "churn = spark.sql('''\n",
    "    SELECT itemInSession, length, sessionId, status \n",
    "    FROM Sparkify_cleaned_View\n",
    "    WHERE Churn == 1\n",
    "''').toPandas()\n",
    "\n",
    "nochurn = spark.sql('''\n",
    "    SELECT itemInSession, length, sessionId, status \n",
    "    FROM Sparkify_cleaned_View\n",
    "    WHERE Churn == 0\n",
    "''').toPandas()\n",
    "\n",
    "# Create combined DataFrame for boxplot\n",
    "churn['Churn'] = 'Churned'\n",
    "nochurn['Churn'] = 'Non-Churned'\n",
    "combined_data = pd.concat([churn, nochurn])\n",
    "\n",
    "# Draw boxplot for itemInSession\n",
    "plt.figure(figsize=(10, 6))\n",
    "sns.boxplot(data=combined_data, x='Churn', y='itemInSession')\n",
    "plt.title('Distribution of itemInSession for Churned and Non-Churned Users')\n",
    "plt.xlabel('Churn Status')\n",
    "plt.ylabel('itemInSession')\n",
    "plt.show()\n",
    "\n",
    "# Draw boxplot for length\n",
    "plt.figure(figsize=(10, 6))\n",
    "sns.boxplot(data=combined_data, x='Churn', y='length')\n",
    "plt.title('Distribution of length for Churned and Non-Churned Users')\n",
    "plt.xlabel('Churn Status')\n",
    "plt.ylabel('length')\n",
    "plt.show()\n",
    "\n",
    "# Draw boxplot for sessionId\n",
    "plt.figure(figsize=(10, 6))\n",
    "sns.boxplot(data=combined_data, x='Churn', y='sessionId')\n",
    "plt.title('Distribution of sessionId for Churned and Non-Churned Users')\n",
    "plt.xlabel('Churn Status')\n",
    "plt.ylabel('sessionId')\n",
    "plt.show()\n",
    "\n",
    "# Draw boxplot for status\n",
    "plt.figure(figsize=(10, 6))\n",
    "sns.boxplot(data=combined_data, x='Churn', y='status')\n",
    "plt.title('Distribution of status for Churned and Non-Churned Users')\n",
    "plt.xlabel('Churn Status')\n",
    "plt.ylabel('status')\n",
    "plt.show()"
   ]
  },
  {
   "cell_type": "markdown",
   "metadata": {},
   "source": [
    "### Auth\n",
    "Let's check the Auth variable"
   ]
  },
  {
   "cell_type": "code",
   "execution_count": 58,
   "metadata": {},
   "outputs": [
    {
     "name": "stdout",
     "output_type": "stream",
     "text": [
      "+-----+---------+-----+\n",
      "|Churn|     auth|count|\n",
      "+-----+---------+-----+\n",
      "|    0|Logged In|  173|\n",
      "|    1|Logged In|   52|\n",
      "+-----+---------+-----+\n",
      "\n"
     ]
    }
   ],
   "source": [
    "sparkify_df_flg.dropDuplicates([\"userId\"]).groupby([\"Churn\", \"auth\"]).count().sort(\"Churn\").show()"
   ]
  },
  {
   "cell_type": "code",
   "execution_count": 59,
   "metadata": {},
   "outputs": [],
   "source": [
    "# This step is to update temporary view\n",
    "sparkify_df_flg.createOrReplaceTempView(\"Sparkify_cleaned_View\")"
   ]
  },
  {
   "cell_type": "markdown",
   "metadata": {},
   "source": [
    "### Gender\n",
    "Let's check the Gender variable"
   ]
  },
  {
   "cell_type": "code",
   "execution_count": 60,
   "metadata": {},
   "outputs": [
    {
     "name": "stdout",
     "output_type": "stream",
     "text": [
      "+-----+------+-----------+\n",
      "|Churn|gender|No_of_Users|\n",
      "+-----+------+-----------+\n",
      "|    1|     F|         20|\n",
      "|    1|     M|         32|\n",
      "|    0|     F|         84|\n",
      "|    0|     M|         89|\n",
      "+-----+------+-----------+\n",
      "\n"
     ]
    }
   ],
   "source": [
    "spark.sql('''\n",
    "          SELECT Churn, gender, COUNT(DISTINCT userId) AS No_of_Users\n",
    "          FROM Sparkify_cleaned_View \n",
    "          GROUP BY Churn, gender\n",
    "          ORDER BY Churn DESC, gender\n",
    "          '''\n",
    "         ).show()"
   ]
  },
  {
   "cell_type": "markdown",
   "metadata": {},
   "source": [
    "### Length\n",
    "Let's check the Length variable"
   ]
  },
  {
   "cell_type": "code",
   "execution_count": 61,
   "metadata": {},
   "outputs": [
    {
     "name": "stdout",
     "output_type": "stream",
     "text": [
      "+-----+------------------+--------------+--------------+\n",
      "|Churn|    average_length|minimum_length|maximum_length|\n",
      "+-----+------------------+--------------+--------------+\n",
      "|    1|248.63279564406218|       4.04853|    3024.66567|\n",
      "|    0|249.20913538880816|       0.78322|    3024.66567|\n",
      "+-----+------------------+--------------+--------------+\n",
      "\n"
     ]
    }
   ],
   "source": [
    "spark.sql('''\n",
    "SELECT Churn,\n",
    "           AVG(length) AS average_length,\n",
    "           MIN(length) AS minimum_length,\n",
    "           MAX(length) AS maximum_length\n",
    "    FROM Sparkify_cleaned_View\n",
    "    GROUP BY Churn\n",
    "    ORDER BY Churn DESC\n",
    "          '''\n",
    "         ).show()"
   ]
  },
  {
   "cell_type": "markdown",
   "metadata": {},
   "source": [
    "### Level\n",
    "Let's check the Level variable"
   ]
  },
  {
   "cell_type": "code",
   "execution_count": 62,
   "metadata": {},
   "outputs": [
    {
     "name": "stdout",
     "output_type": "stream",
     "text": [
      "+-----+-----+-----------+\n",
      "|Churn|level|No_of_Users|\n",
      "+-----+-----+-----------+\n",
      "|    0| free|        149|\n",
      "|    0| paid|        129|\n",
      "|    1| free|         46|\n",
      "|    1| paid|         36|\n",
      "+-----+-----+-----------+\n",
      "\n"
     ]
    }
   ],
   "source": [
    "spark.sql('''\n",
    "        SELECT Churn, level,COUNT(DISTINCT userId) AS No_of_Users\n",
    "        FROM Sparkify_cleaned_View\n",
    "        GROUP BY Churn, level\n",
    "        ORDER BY No_of_Users DESC\n",
    "''').show()"
   ]
  },
  {
   "cell_type": "markdown",
   "metadata": {},
   "source": [
    "### Method\n",
    "Let's check the method variable"
   ]
  },
  {
   "cell_type": "code",
   "execution_count": 63,
   "metadata": {},
   "outputs": [
    {
     "name": "stdout",
     "output_type": "stream",
     "text": [
      "+-----+------+-----------+\n",
      "|Churn|method|No_of_users|\n",
      "+-----+------+-----------+\n",
      "|    0|   PUT|     216691|\n",
      "|    1|   PUT|      41127|\n",
      "|    0|   GET|      16599|\n",
      "|    1|   GET|       3737|\n",
      "+-----+------+-----------+\n",
      "\n"
     ]
    }
   ],
   "source": [
    "spark.sql('''\n",
    "        SELECT Churn, method,COUNT(userId) AS No_of_users\n",
    "        FROM Sparkify_cleaned_View\n",
    "        GROUP BY method, Churn\n",
    "        ORDER BY No_of_users DESC\n",
    "''').show()"
   ]
  },
  {
   "cell_type": "markdown",
   "metadata": {},
   "source": [
    "### Artist"
   ]
  },
  {
   "cell_type": "code",
   "execution_count": 64,
   "metadata": {},
   "outputs": [],
   "source": [
    "# Query to find the most played artist among non-churned users\n",
    "artist_non_churn_user = spark.sql('''\n",
    "    SELECT Artist, COUNT(Artist) AS users \n",
    "    FROM Sparkify_cleaned_View \n",
    "    WHERE Churn = 0\n",
    "    GROUP BY Artist\n",
    "    ORDER BY users DESC \n",
    "''').toPandas()"
   ]
  },
  {
   "cell_type": "code",
   "execution_count": 65,
   "metadata": {},
   "outputs": [],
   "source": [
    "# Query to find the most played artist among churned users\n",
    "artist_churn_user = spark.sql('''\n",
    "    SELECT Artist, COUNT(Artist) AS users \n",
    "    FROM Sparkify_cleaned_View \n",
    "    WHERE Churn = 1\n",
    "    GROUP BY Artist \n",
    "    ORDER BY users DESC \n",
    "''').toPandas()"
   ]
  },
  {
   "cell_type": "code",
   "execution_count": 66,
   "metadata": {},
   "outputs": [],
   "source": [
    "# Merge the two DataFrames\n",
    "df_artist = artist_non_churn_user.merge(artist_churn_user, on='Artist', how='outer', suffixes=('_active', '_churn'))"
   ]
  },
  {
   "cell_type": "code",
   "execution_count": 67,
   "metadata": {},
   "outputs": [
    {
     "data": {
      "text/html": [
       "<div>\n",
       "<style scoped>\n",
       "    .dataframe tbody tr th:only-of-type {\n",
       "        vertical-align: middle;\n",
       "    }\n",
       "\n",
       "    .dataframe tbody tr th {\n",
       "        vertical-align: top;\n",
       "    }\n",
       "\n",
       "    .dataframe thead th {\n",
       "        text-align: right;\n",
       "    }\n",
       "</style>\n",
       "<table border=\"1\" class=\"dataframe\">\n",
       "  <thead>\n",
       "    <tr style=\"text-align: right;\">\n",
       "      <th></th>\n",
       "      <th>Artist</th>\n",
       "      <th>users_active</th>\n",
       "      <th>users_churn</th>\n",
       "    </tr>\n",
       "  </thead>\n",
       "  <tbody>\n",
       "    <tr>\n",
       "      <th>0</th>\n",
       "      <td>Coldplay</td>\n",
       "      <td>1552.0</td>\n",
       "      <td>261.0</td>\n",
       "    </tr>\n",
       "    <tr>\n",
       "      <th>1</th>\n",
       "      <td>Kings Of Leon</td>\n",
       "      <td>1542.0</td>\n",
       "      <td>299.0</td>\n",
       "    </tr>\n",
       "    <tr>\n",
       "      <th>2</th>\n",
       "      <td>Florence + The Machine</td>\n",
       "      <td>1048.0</td>\n",
       "      <td>188.0</td>\n",
       "    </tr>\n",
       "    <tr>\n",
       "      <th>3</th>\n",
       "      <td>BjÃÂ¶rk</td>\n",
       "      <td>962.0</td>\n",
       "      <td>171.0</td>\n",
       "    </tr>\n",
       "    <tr>\n",
       "      <th>4</th>\n",
       "      <td>Dwight Yoakam</td>\n",
       "      <td>952.0</td>\n",
       "      <td>183.0</td>\n",
       "    </tr>\n",
       "    <tr>\n",
       "      <th>5</th>\n",
       "      <td>The Black Keys</td>\n",
       "      <td>940.0</td>\n",
       "      <td>185.0</td>\n",
       "    </tr>\n",
       "    <tr>\n",
       "      <th>6</th>\n",
       "      <td>Muse</td>\n",
       "      <td>926.0</td>\n",
       "      <td>164.0</td>\n",
       "    </tr>\n",
       "    <tr>\n",
       "      <th>7</th>\n",
       "      <td>Justin Bieber</td>\n",
       "      <td>876.0</td>\n",
       "      <td>168.0</td>\n",
       "    </tr>\n",
       "    <tr>\n",
       "      <th>8</th>\n",
       "      <td>Jack Johnson</td>\n",
       "      <td>852.0</td>\n",
       "      <td>155.0</td>\n",
       "    </tr>\n",
       "    <tr>\n",
       "      <th>9</th>\n",
       "      <td>Eminem</td>\n",
       "      <td>805.0</td>\n",
       "      <td>148.0</td>\n",
       "    </tr>\n",
       "  </tbody>\n",
       "</table>\n",
       "</div>"
      ],
      "text/plain": [
       "                   Artist  users_active  users_churn\n",
       "0                Coldplay        1552.0        261.0\n",
       "1           Kings Of Leon        1542.0        299.0\n",
       "2  Florence + The Machine        1048.0        188.0\n",
       "3                BjÃÂ¶rk         962.0        171.0\n",
       "4           Dwight Yoakam         952.0        183.0\n",
       "5          The Black Keys         940.0        185.0\n",
       "6                    Muse         926.0        164.0\n",
       "7           Justin Bieber         876.0        168.0\n",
       "8            Jack Johnson         852.0        155.0\n",
       "9                  Eminem         805.0        148.0"
      ]
     },
     "execution_count": 67,
     "metadata": {},
     "output_type": "execute_result"
    }
   ],
   "source": [
    "df_artist.head(10)"
   ]
  },
  {
   "cell_type": "code",
   "execution_count": 68,
   "metadata": {},
   "outputs": [],
   "source": [
    "# This step is to calculate the total number of plays\n",
    "df_artist['tot_plays'] = df_artist['users_active'].fillna(0) + df_artist['users_churn'].fillna(0)"
   ]
  },
  {
   "cell_type": "code",
   "execution_count": 69,
   "metadata": {},
   "outputs": [],
   "source": [
    "df_artist = df_artist.nlargest(10, 'tot_plays')"
   ]
  },
  {
   "cell_type": "code",
   "execution_count": 70,
   "metadata": {},
   "outputs": [
    {
     "data": {
      "image/png": "[encoded data removed]",
      "text/plain": [
       "<matplotlib.figure.Figure at 0x7f43646c7898>"
      ]
     },
     "metadata": {
      "needs_background": "light"
     },
     "output_type": "display_data"
    },
    {
     "data": {
      "image/png": "[encoded data removed]",
      "text/plain": [
       "<matplotlib.figure.Figure at 0x7f432744f080>"
      ]
     },
     "metadata": {
      "needs_background": "light"
     },
     "output_type": "display_data"
    }
   ],
   "source": [
    "# This srep is to draw plot\n",
    "plt.figure(figsize=(10, 4))\n",
    "plt.title('Top 10 Most Popular Artists', fontsize=15)\n",
    "df_artist[['users_active', 'users_churn']].plot(kind='bar', stacked=True, color=['0.65', 'b'], legend=True)\n",
    "plt.xlabel(\"Artist\", fontsize=10)\n",
    "plt.ylabel(\"# of Plays\", fontsize=10)\n",
    "plt.show()"
   ]
  },
  {
   "cell_type": "markdown",
   "metadata": {},
   "source": [
    "### location"
   ]
  },
  {
   "cell_type": "code",
   "execution_count": 71,
   "metadata": {},
   "outputs": [
    {
     "name": "stdout",
     "output_type": "stream",
     "text": [
      "+--------------------+-----+-----------+\n",
      "|            location|Churn|No_of_Users|\n",
      "+--------------------+-----+-----------+\n",
      "|Los Angeles-Long ...|    0|         13|\n",
      "|New York-Newark-J...|    0|         10|\n",
      "|Charlotte-Concord...|    0|          6|\n",
      "|Dallas-Fort Worth...|    0|          6|\n",
      "|Chicago-Napervill...|    0|          5|\n",
      "|    St. Louis, MO-IL|    0|          5|\n",
      "|Boston-Cambridge-...|    0|          5|\n",
      "|New York-Newark-J...|    1|          5|\n",
      "|Phoenix-Mesa-Scot...|    0|          5|\n",
      "|Atlanta-Sandy Spr...|    0|          4|\n",
      "|Philadelphia-Camd...|    0|          3|\n",
      "|Houston-The Woodl...|    0|          3|\n",
      "|Las Vegas-Henders...|    0|          3|\n",
      "|Washington-Arling...|    0|          3|\n",
      "|New Haven-Milford...|    0|          3|\n",
      "|Miami-Fort Lauder...|    0|          3|\n",
      "|Los Angeles-Long ...|    1|          3|\n",
      "|     Tallahassee, FL|    0|          2|\n",
      "|San Antonio-New B...|    0|          2|\n",
      "|Providence-Warwic...|    0|          2|\n",
      "+--------------------+-----+-----------+\n",
      "only showing top 20 rows\n",
      "\n"
     ]
    }
   ],
   "source": [
    "spark.sql('''\n",
    "        SELECT location, Churn, COUNT(DISTINCT userId) AS No_of_Users\n",
    "        FROM Sparkify_cleaned_View\n",
    "        GROUP BY location, Churn\n",
    "        ORDER BY No_of_Users DESC\n",
    "''').show()"
   ]
  },
  {
   "cell_type": "code",
   "execution_count": 72,
   "metadata": {},
   "outputs": [],
   "source": [
    "# This step is to split the 'location' column into two columns from comma between two strings.\n",
    "sparkify_df_flg = sparkify_df_flg.withColumn('city', split(sparkify_df_flg['location'], \",\").getItem(0))\\\n",
    "        .withColumn('state', split(sparkify_df_flg['location'], \",\").getItem(1))"
   ]
  },
  {
   "cell_type": "code",
   "execution_count": 73,
   "metadata": {},
   "outputs": [],
   "source": [
    "# This step is to update temporary view\n",
    "sparkify_df_flg.createOrReplaceTempView(\"Sparkify_cleaned_View\")"
   ]
  },
  {
   "cell_type": "code",
   "execution_count": 74,
   "metadata": {},
   "outputs": [
    {
     "name": "stdout",
     "output_type": "stream",
     "text": [
      "+--------------------+-----+-----------+\n",
      "|                city|Churn|No_of_Users|\n",
      "+--------------------+-----+-----------+\n",
      "|Dallas-Fort Worth...|    1|          1|\n",
      "|Miami-Fort Lauder...|    1|          2|\n",
      "|Greenville-Anders...|    1|          1|\n",
      "|             Memphis|    1|          1|\n",
      "|             Bozeman|    1|          1|\n",
      "|Spokane-Spokane V...|    1|          2|\n",
      "|Chicago-Napervill...|    1|          1|\n",
      "|Los Angeles-Long ...|    1|          3|\n",
      "|   Birmingham-Hoover|    1|          1|\n",
      "|Washington-Arling...|    1|          1|\n",
      "+--------------------+-----+-----------+\n",
      "only showing top 10 rows\n",
      "\n"
     ]
    }
   ],
   "source": [
    "spark.sql('''\n",
    "        SELECT city, Churn, COUNT(DISTINCT userId) AS No_of_Users\n",
    "        FROM Sparkify_cleaned_View\n",
    "        GROUP BY city, Churn\n",
    "        ORDER BY Churn DESC\n",
    "''').show(10)"
   ]
  },
  {
   "cell_type": "code",
   "execution_count": 75,
   "metadata": {},
   "outputs": [
    {
     "name": "stdout",
     "output_type": "stream",
     "text": [
      "+-----+-----+-----------+\n",
      "|state|Churn|No_of_Users|\n",
      "+-----+-----+-----------+\n",
      "|   CO|    1|          2|\n",
      "|   AL|    1|          2|\n",
      "|   CA|    1|          6|\n",
      "|   WA|    1|          2|\n",
      "|   LA|    1|          1|\n",
      "|   MS|    1|          2|\n",
      "|   FL|    1|          3|\n",
      "|   IN|    1|          1|\n",
      "|   AR|    1|          1|\n",
      "|   KY|    1|          2|\n",
      "+-----+-----+-----------+\n",
      "only showing top 10 rows\n",
      "\n"
     ]
    }
   ],
   "source": [
    "spark.sql('''\n",
    "        SELECT state, Churn, COUNT(DISTINCT userId) AS No_of_Users\n",
    "        FROM Sparkify_cleaned_View\n",
    "        GROUP BY state, Churn\n",
    "        ORDER BY Churn DESC\n",
    "''').show(10)"
   ]
  },
  {
   "cell_type": "code",
   "execution_count": 76,
   "metadata": {},
   "outputs": [],
   "source": [
    "# This step is to find the churn state among churned users\n",
    "loc_non_churn_user = spark.sql('''\n",
    "    SELECT state, COUNT(DISTINCT userId) AS active_users \n",
    "    FROM Sparkify_cleaned_View \n",
    "        WHERE Churn = 0\n",
    "        GROUP BY state\n",
    "        ORDER BY active_users DESC\n",
    "''').toPandas()"
   ]
  },
  {
   "cell_type": "code",
   "execution_count": 77,
   "metadata": {},
   "outputs": [],
   "source": [
    "# This step is to find the churn state among churned users\n",
    "loc_churn_user = spark.sql('''\n",
    "    SELECT state, COUNT(DISTINCT userId) AS churn_users \n",
    "    FROM Sparkify_cleaned_View \n",
    "        WHERE Churn = 1\n",
    "        GROUP BY state\n",
    "        ORDER BY churn_users DESC\n",
    "''').toPandas()"
   ]
  },
  {
   "cell_type": "code",
   "execution_count": 78,
   "metadata": {},
   "outputs": [],
   "source": [
    "loc_state = pd.concat([loc_churn_user.groupby('state').sum(), loc_non_churn_user.groupby('state').sum()], \\\n",
    "                              axis=1, join=\"outer\", sort=True)"
   ]
  },
  {
   "cell_type": "code",
   "execution_count": 79,
   "metadata": {},
   "outputs": [],
   "source": [
    "loc_state = loc_state.sort_values(by=['active_users', 'churn_users'], ascending=False)"
   ]
  },
  {
   "cell_type": "code",
   "execution_count": 80,
   "metadata": {},
   "outputs": [
    {
     "data": {
      "image/png": "[encoded data removed]",
      "text/plain": [
       "<matplotlib.figure.Figure at 0x7f4364338080>"
      ]
     },
     "metadata": {
      "needs_background": "light"
     },
     "output_type": "display_data"
    }
   ],
   "source": [
    "plt.title('Users by Location', fontsize=30)\n",
    "\n",
    "ax = loc_state['active_users'].plot(kind='bar', \\\n",
    "                                               color ='0.55', figsize=(15, 5), legend=True, fontsize=15)\n",
    "\n",
    "ax = loc_state['churn_users'].plot(kind='bar', \\\n",
    "                                              color ='b', legend=True, fontsize=15)\n",
    "ax.set_xlabel(\"State\", fontsize=15)\n",
    "ax.set_ylabel(\"# of users\", fontsize=15)\n",
    "plt.grid(True)\n",
    "plt.show()"
   ]
  },
  {
   "cell_type": "markdown",
   "metadata": {},
   "source": [
    "### Page"
   ]
  },
  {
   "cell_type": "code",
   "execution_count": 81,
   "metadata": {},
   "outputs": [
    {
     "name": "stdout",
     "output_type": "stream",
     "text": [
      "+--------------------+------------+-----------+\n",
      "|                page|Churn_Status|Total_Users|\n",
      "+--------------------+------------+-----------+\n",
      "|            NextSong|      Active|        173|\n",
      "|                Home|      Active|        172|\n",
      "|           Thumbs Up|      Active|        170|\n",
      "|              Logout|      Active|        167|\n",
      "|     Add to Playlist|      Active|        165|\n",
      "|          Add Friend|      Active|        162|\n",
      "|         Roll Advert|      Active|        157|\n",
      "|         Thumbs Down|      Active|        155|\n",
      "|            Settings|      Active|        152|\n",
      "|                Help|      Active|        149|\n",
      "|             Upgrade|      Active|        131|\n",
      "|               About|      Active|        124|\n",
      "|           Downgrade|      Active|        119|\n",
      "|       Save Settings|      Active|        102|\n",
      "|      Submit Upgrade|      Active|        102|\n",
      "|               Error|      Active|         95|\n",
      "|Cancellation Conf...|     Churned|         52|\n",
      "|              Cancel|     Churned|         52|\n",
      "|            NextSong|     Churned|         52|\n",
      "|                Home|     Churned|         51|\n",
      "+--------------------+------------+-----------+\n",
      "only showing top 20 rows\n",
      "\n"
     ]
    }
   ],
   "source": [
    "spark.sql('''\n",
    "    SELECT page, \n",
    "           CASE WHEN Churn = 1 THEN 'Churned' ELSE 'Active' END AS Churn_Status,\n",
    "           COUNT(DISTINCT userId) AS Total_Users\n",
    "    FROM Sparkify_cleaned_View \n",
    "    GROUP BY page, Churn_Status\n",
    "    ORDER BY total_users DESC\n",
    "''').show()"
   ]
  },
  {
   "cell_type": "markdown",
   "metadata": {},
   "source": [
    "NextSong, Home, Thumbs Up, Logout, Add to Playlist seems most visited pages by active Users."
   ]
  },
  {
   "cell_type": "markdown",
   "metadata": {},
   "source": [
    "### UserAgent"
   ]
  },
  {
   "cell_type": "code",
   "execution_count": 82,
   "metadata": {},
   "outputs": [
    {
     "name": "stdout",
     "output_type": "stream",
     "text": [
      "+--------------------+------------+-----------+\n",
      "|           useragent|Churn_Status|Total_Users|\n",
      "+--------------------+------------+-----------+\n",
      "|Mozilla/5.0 (comp...|      Active|          3|\n",
      "|Mozilla/5.0 (comp...|      Active|          1|\n",
      "|Mozilla/5.0 (comp...|      Active|          1|\n",
      "|Mozilla/5.0 (X11;...|     Churned|          3|\n",
      "|Mozilla/5.0 (X11;...|      Active|          1|\n",
      "|Mozilla/5.0 (X11;...|     Churned|          1|\n",
      "|Mozilla/5.0 (X11;...|      Active|          1|\n",
      "|Mozilla/5.0 (Wind...|      Active|          3|\n",
      "|Mozilla/5.0 (Wind...|     Churned|          1|\n",
      "|Mozilla/5.0 (Wind...|     Churned|          1|\n",
      "|Mozilla/5.0 (Wind...|     Churned|          1|\n",
      "|Mozilla/5.0 (Wind...|      Active|          2|\n",
      "|Mozilla/5.0 (Wind...|      Active|          1|\n",
      "|Mozilla/5.0 (Wind...|     Churned|          1|\n",
      "|Mozilla/5.0 (Wind...|      Active|         14|\n",
      "|Mozilla/5.0 (Wind...|     Churned|          4|\n",
      "|Mozilla/5.0 (Wind...|      Active|          1|\n",
      "|Mozilla/5.0 (Wind...|     Churned|          1|\n",
      "|Mozilla/5.0 (Wind...|      Active|          6|\n",
      "|Mozilla/5.0 (Wind...|     Churned|          1|\n",
      "+--------------------+------------+-----------+\n",
      "only showing top 20 rows\n",
      "\n"
     ]
    }
   ],
   "source": [
    "#This step is to get the UserAgent by chrurn status and user count\n",
    "spark.sql('''\n",
    "    SELECT useragent, \n",
    "           CASE WHEN Churn = 1 THEN 'Churned' ELSE 'Active' END AS Churn_Status,\n",
    "           COUNT(DISTINCT userId) AS Total_Users\n",
    "    FROM Sparkify_cleaned_View \n",
    "    GROUP BY useragent, Churn_Status\n",
    "    ORDER BY useragent DESC\n",
    "''').show()\n"
   ]
  },
  {
   "cell_type": "markdown",
   "metadata": {},
   "source": [
    "### Status"
   ]
  },
  {
   "cell_type": "code",
   "execution_count": 83,
   "metadata": {},
   "outputs": [
    {
     "name": "stdout",
     "output_type": "stream",
     "text": [
      "+------+------------+-----------+\n",
      "|status|Churn_Status|Total_Users|\n",
      "+------+------------+-----------+\n",
      "|   404|      Active|         95|\n",
      "|   404|     Churned|         22|\n",
      "|   307|     Churned|         52|\n",
      "|   307|      Active|        171|\n",
      "|   200|     Churned|         52|\n",
      "|   200|      Active|        173|\n",
      "+------+------------+-----------+\n",
      "\n"
     ]
    }
   ],
   "source": [
    "spark.sql('''\n",
    "    SELECT status, \n",
    "           CASE WHEN Churn = 1 THEN 'Churned' ELSE 'Active' END AS Churn_Status,\n",
    "           COUNT(DISTINCT userId) AS Total_Users\n",
    "    FROM Sparkify_cleaned_View \n",
    "    GROUP BY status, Churn_Status\n",
    "    ORDER BY status DESC\n",
    "''').show()\n"
   ]
  },
  {
   "cell_type": "markdown",
   "metadata": {},
   "source": [
    "# Feature Engineering\n",
    "Once you've familiarized yourself with the data, build out the features you find promising to train your model on. To work with the full dataset, you can follow the following steps.\n",
    "- Write a script to extract the necessary features from the smaller subset of data\n",
    "- Ensure that your script is scalable, using the best practices discussed in Lesson 3\n",
    "- Try your script on the full data set, debugging your script if necessary\n",
    "\n",
    "If you are working in the classroom workspace, you can just extract features based on the small subset of data contained here. Be sure to transfer over this work to the larger dataset when you work on your Spark cluster."
   ]
  },
  {
   "cell_type": "markdown",
   "metadata": {},
   "source": [
    "The following variables show substantial discrepancies between churned and active users, suggesting their potential ignificance in predicting customer churn:\n",
    "\n",
    "- Number of songs played per user\n",
    "- Count of 'Thumbs Up' page interactions per user\n",
    "- Count of 'Thumbs Down' page interactions per user\n",
    "- Count of 'Add to Playlist' page interactions per user\n",
    "- Count of 'Add Friend' page interactions per user\n",
    "- Count of 'Error' per user\n",
    "- Count of 'length' of songs listened per user\n",
    "- Number of sessions per user\n",
    "- Count of 'status' per user\n",
    "- Count of 'level' per user\n",
    "- Gender\n",
    "\n",
    "We'll create additional columns into the dataset to do a more thorough analysis of their predictive potential."
   ]
  },
  {
   "cell_type": "code",
   "execution_count": 84,
   "metadata": {
    "scrolled": true
   },
   "outputs": [
    {
     "name": "stdout",
     "output_type": "stream",
     "text": [
      "+------+--------------------+---------+------+-------------+---------+-----+--------------------+------+-----------+-------------+---------+--------------------+------+-------------+--------------------+-------------------+------------------------+----------------------+-----+---------------+------------------+--------------------+-----+\n",
      "|userId|              artist|     auth|gender|itemInSession|   length|level|            location|method|       page| registration|sessionId|                song|status|           ts|           userAgent|        dateandtime|registration_dateandtime|days_from_registration|churn|downgrade_click|total_downgrad_clk|                city|state|\n",
      "+------+--------------------+---------+------+-------------+---------+-----+--------------------+------+-----------+-------------+---------+--------------------+------+-------------+--------------------+-------------------+------------------------+----------------------+-----+---------------+------------------+--------------------+-----+\n",
      "|100010|Sleeping With Sirens|Logged In|     F|            0|202.97098| free|Bridgeport-Stamfo...|   PUT|   NextSong|1538016340000|       31|Captain Tyin Knot...|   200|1539003534000|\"Mozilla/5.0 (iPh...|2018-10-08 12:58:54|     2018-09-27 02:45:40|                    11|    0|              0|                 0|Bridgeport-Stamfo...|   CT|\n",
      "|100010|Francesca Battist...|Logged In|     F|            1|196.54485| free|Bridgeport-Stamfo...|   PUT|   NextSong|1538016340000|       31|Beautiful_ Beauti...|   200|1539003736000|\"Mozilla/5.0 (iPh...|2018-10-08 13:02:16|     2018-09-27 02:45:40|                    11|    0|              0|                 0|Bridgeport-Stamfo...|   CT|\n",
      "|100010|              Brutha|Logged In|     F|            2|263.13098| free|Bridgeport-Stamfo...|   PUT|   NextSong|1538016340000|       31|          She's Gone|   200|1539003932000|\"Mozilla/5.0 (iPh...|2018-10-08 13:05:32|     2018-09-27 02:45:40|                    11|    0|              0|                 0|Bridgeport-Stamfo...|   CT|\n",
      "|100010|                null|Logged In|     F|            3|     null| free|Bridgeport-Stamfo...|   PUT|  Thumbs Up|1538016340000|       31|                null|   307|1539003933000|\"Mozilla/5.0 (iPh...|2018-10-08 13:05:33|     2018-09-27 02:45:40|                    11|    0|              0|                 0|Bridgeport-Stamfo...|   CT|\n",
      "|100010|         Josh Ritter|Logged In|     F|            4|316.23791| free|Bridgeport-Stamfo...|   PUT|   NextSong|1538016340000|       31|      Folk Bloodbath|   200|1539004195000|\"Mozilla/5.0 (iPh...|2018-10-08 13:09:55|     2018-09-27 02:45:40|                    11|    0|              0|                 0|Bridgeport-Stamfo...|   CT|\n",
      "|100010|               LMFAO|Logged In|     F|            5|183.74485| free|Bridgeport-Stamfo...|   PUT|   NextSong|1538016340000|       31|                 Yes|   200|1539004511000|\"Mozilla/5.0 (iPh...|2018-10-08 13:15:11|     2018-09-27 02:45:40|                    11|    0|              0|                 0|Bridgeport-Stamfo...|   CT|\n",
      "|100010|         OneRepublic|Logged In|     F|            6|224.67873| free|Bridgeport-Stamfo...|   PUT|   NextSong|1538016340000|       31|             Secrets|   200|1539004694000|\"Mozilla/5.0 (iPh...|2018-10-08 13:18:14|     2018-09-27 02:45:40|                    11|    0|              0|                 0|Bridgeport-Stamfo...|   CT|\n",
      "|100010|       Dwight Yoakam|Logged In|     F|            7| 239.3073| free|Bridgeport-Stamfo...|   PUT|   NextSong|1538016340000|       31|      You're The One|   200|1539004918000|\"Mozilla/5.0 (iPh...|2018-10-08 13:21:58|     2018-09-27 02:45:40|                    11|    0|              0|                 0|Bridgeport-Stamfo...|   CT|\n",
      "|100010|                null|Logged In|     F|            8|     null| free|Bridgeport-Stamfo...|   GET|Roll Advert|1538016340000|       31|                null|   200|1539004961000|\"Mozilla/5.0 (iPh...|2018-10-08 13:22:41|     2018-09-27 02:45:40|                    11|    0|              0|                 0|Bridgeport-Stamfo...|   CT|\n",
      "|100010|      The Chordettes|Logged In|     F|            9|142.41914| free|Bridgeport-Stamfo...|   PUT|   NextSong|1538016340000|       31|          Mr Sandman|   200|1539005157000|\"Mozilla/5.0 (iPh...|2018-10-08 13:25:57|     2018-09-27 02:45:40|                    11|    0|              0|                 0|Bridgeport-Stamfo...|   CT|\n",
      "|100010|Coko featuring Ki...|Logged In|     F|           10| 249.3122| free|Bridgeport-Stamfo...|   PUT|   NextSong|1538016340000|       31|           I Get Joy|   200|1539005299000|\"Mozilla/5.0 (iPh...|2018-10-08 13:28:19|     2018-09-27 02:45:40|                    11|    0|              0|                 0|Bridgeport-Stamfo...|   CT|\n",
      "|100010|            The Cure|Logged In|     F|           11| 52.27057| free|Bridgeport-Stamfo...|   PUT|   NextSong|1538016340000|       31|     The Final Sound|   200|1539005548000|\"Mozilla/5.0 (iPh...|2018-10-08 13:32:28|     2018-09-27 02:45:40|                    11|    0|              0|                 0|Bridgeport-Stamfo...|   CT|\n",
      "|100010|                null|Logged In|     F|           12|     null| free|Bridgeport-Stamfo...|   GET|Roll Advert|1538016340000|       31|                null|   200|1539005571000|\"Mozilla/5.0 (iPh...|2018-10-08 13:32:51|     2018-09-27 02:45:40|                    11|    0|              0|                 0|Bridgeport-Stamfo...|   CT|\n",
      "|100010|Kid Cudi Vs Crookers|Logged In|     F|           13|162.97751| free|Bridgeport-Stamfo...|   PUT|   NextSong|1538016340000|       31|        Day 'N' Nite|   200|1539005600000|\"Mozilla/5.0 (iPh...|2018-10-08 13:33:20|     2018-09-27 02:45:40|                    11|    0|              0|                 0|Bridgeport-Stamfo...|   CT|\n",
      "|100010|                null|Logged In|     F|           14|     null| free|Bridgeport-Stamfo...|   PUT|  Thumbs Up|1538016340000|       31|                null|   307|1539005601000|\"Mozilla/5.0 (iPh...|2018-10-08 13:33:21|     2018-09-27 02:45:40|                    11|    0|              0|                 0|Bridgeport-Stamfo...|   CT|\n",
      "|100010|            Yeasayer|Logged In|     F|           15|323.44771| free|Bridgeport-Stamfo...|   PUT|   NextSong|1538016340000|       31|                2080|   200|1539005762000|\"Mozilla/5.0 (iPh...|2018-10-08 13:36:02|     2018-09-27 02:45:40|                    11|    0|              0|                 0|Bridgeport-Stamfo...|   CT|\n",
      "|100010|             Ben Lee|Logged In|     F|           16|245.78567| free|Bridgeport-Stamfo...|   PUT|   NextSong|1538016340000|       31|        Ache For You|   200|1539006085000|\"Mozilla/5.0 (iPh...|2018-10-08 13:41:25|     2018-09-27 02:45:40|                    11|    0|              0|                 0|Bridgeport-Stamfo...|   CT|\n",
      "|100010|                null|Logged In|     F|           17|     null| free|Bridgeport-Stamfo...|   GET|Roll Advert|1538016340000|       31|                null|   200|1539006103000|\"Mozilla/5.0 (iPh...|2018-10-08 13:41:43|     2018-09-27 02:45:40|                    11|    0|              0|                 0|Bridgeport-Stamfo...|   CT|\n",
      "|100010|  ? & The Mysterians|Logged In|     F|           18|128.10404| free|Bridgeport-Stamfo...|   PUT|   NextSong|1538016340000|       31|    Just Like A Rose|   200|1539006330000|\"Mozilla/5.0 (iPh...|2018-10-08 13:45:30|     2018-09-27 02:45:40|                    11|    0|              0|                 0|Bridgeport-Stamfo...|   CT|\n",
      "|100010|                null|Logged In|     F|           19|     null| free|Bridgeport-Stamfo...|   GET|Roll Advert|1538016340000|       31|                null|   200|1539006331000|\"Mozilla/5.0 (iPh...|2018-10-08 13:45:31|     2018-09-27 02:45:40|                    11|    0|              0|                 0|Bridgeport-Stamfo...|   CT|\n",
      "+------+--------------------+---------+------+-------------+---------+-----+--------------------+------+-----------+-------------+---------+--------------------+------+-------------+--------------------+-------------------+------------------------+----------------------+-----+---------------+------------------+--------------------+-----+\n",
      "only showing top 20 rows\n",
      "\n"
     ]
    }
   ],
   "source": [
    "sparkify_df_flg.show()"
   ]
  },
  {
   "cell_type": "code",
   "execution_count": 85,
   "metadata": {},
   "outputs": [],
   "source": [
    "from pyspark.sql.functions import when, col, countDistinct, sum as spark_sum\n",
    "\n",
    "# Apply feature engineering on variables\n",
    "features_df = sparkify_df_flg.groupBy(\"userId\").agg(\n",
    "    spark_sum(when(col(\"gender\") == \"F\", 1).otherwise(0)).alias(\"f_user\"),\n",
    "    spark_sum(when(col(\"gender\") == \"M\", 1).otherwise(0)).alias(\"m_user\"),\n",
    "    countDistinct(when(col(\"song\").isNotNull(), col(\"song\"))).alias(\"tot_songs_played\"),\n",
    "    spark_sum(when(col(\"page\") == \"Thumbs Up\", 1).otherwise(0)).alias(\"tot_thumbs_up\"),\n",
    "    spark_sum(when(col(\"page\") == \"Thumbs Down\", 1).otherwise(0)).alias(\"tot_thumbs_down\"),\n",
    "    spark_sum(when(col(\"page\") == \"Add to Playlist\", 1).otherwise(0)).alias(\"tot_playlist_adds\"),\n",
    "    spark_sum(when(col(\"page\") == \"Add Friend\", 1).otherwise(0)).alias(\"tot_friends_added\"),\n",
    "    spark_sum(when(col(\"page\") == \"Error\", 1).otherwise(0)).alias(\"tot_errors\"),\n",
    "    spark_sum(when(col(\"page\") == \"Help\", 1).otherwise(0)).alias(\"tot_help_request\"),\n",
    "    spark_sum(when(col(\"length\").isNotNull(), col(\"length\"))).alias(\"tot_length\"),\n",
    "    countDistinct(col(\"dateandtime\")).alias(\"tot_sessions\"),\n",
    "    spark_sum(when(col(\"status\") == 404, 1).otherwise(0)).alias(\"tot_404_errors\"),\n",
    "    spark_sum(when(col(\"level\") == \"paid\", 1).otherwise(0)).alias(\"paid_user\")\n",
    ")\n",
    "\n",
    "# Join features with the main dataframe\n",
    "sparkify_df_flg = sparkify_df_flg.join(features_df, on=\"userId\", how=\"left\")\n",
    "\n",
    "# Fill NaN values with 0 for features\n",
    "features = [\"f_user\", \"m_user\", \n",
    "            \"tot_songs_played\", \n",
    "            \"tot_thumbs_up\", \"tot_thumbs_down\",\n",
    "            \"tot_playlist_adds\", \"tot_friends_added\", \"tot_errors\", \"tot_help_request\",\n",
    "            \"tot_length\", \"tot_sessions\", \"tot_404_errors\", \"paid_user\"]\n",
    "sparkify_df_flg = sparkify_df_flg.fillna(0, subset=features)\n",
    "\n",
    "# Drop redundant or unnecessary columns\n",
    "drop_cols = ['registration', 'userAgent', 'location', 'ts'] \n",
    "sparkify_df_flg = sparkify_df_flg.drop(*drop_cols)\n"
   ]
  },
  {
   "cell_type": "markdown",
   "metadata": {},
   "source": [
    "# Modeling\n",
    "Split the full dataset into train, test, and validation sets. Test out several of the machine learning methods you learned. Evaluate the accuracy of the various models, tuning parameters as necessary. Determine your winning model based on test accuracy and report results on the validation set. Since the churned users are a fairly small subset, I suggest using F1 score as the metric to optimize."
   ]
  },
  {
   "cell_type": "markdown",
   "metadata": {},
   "source": [
    "### Creating Logistic Regression Model"
   ]
  },
  {
   "cell_type": "code",
   "execution_count": 86,
   "metadata": {},
   "outputs": [
    {
     "name": "stdout",
     "output_type": "stream",
     "text": [
      "F1 Score: 0.7844468769407186\n",
      "AUC Score: 0.7767963831727738\n"
     ]
    }
   ],
   "source": [
    "assembler = VectorAssembler(inputCols=[\"f_user\", \"m_user\", \"tot_songs_played\", \"tot_thumbs_up\", \"tot_thumbs_down\",\n",
    "            \"tot_playlist_adds\", \"tot_friends_added\", \"tot_errors\",\"tot_help_request\",\n",
    "            \"tot_length\", \"tot_sessions\", \"tot_404_errors\",\n",
    "            \"paid_user\"], \n",
    "                            outputCol=\"features\")\n",
    "\n",
    "classifier = LogisticRegression(maxIter=10, regParam=0.0, elasticNetParam=0.0, labelCol=\"churn\")\n",
    "pipeline = Pipeline(stages=[assembler, classifier])\n",
    "\n",
    "train, test = sparkify_df_flg.randomSplit([0.8, 0.2], seed=45)\n",
    "\n",
    "model = pipeline.fit(train)\n",
    "predictions = model.transform(test)\n",
    "\n",
    "evaluator_for_f1 = MulticlassClassificationEvaluator(labelCol=\"churn\", metricName='f1')\n",
    "score_of_f1 = evaluator_for_f1.evaluate(predictions)\n",
    "print(\"F1 Score:\", score_of_f1)\n",
    "\n",
    "evaluator_for_auc = BinaryClassificationEvaluator(labelCol=\"churn\", metricName='areaUnderROC')\n",
    "score_of_auc = evaluator_for_auc.evaluate(predictions)\n",
    "print(\"AUC Score:\", score_of_auc)"
   ]
  },
  {
   "cell_type": "markdown",
   "metadata": {},
   "source": [
    "### Creating Support Vector Machine Model"
   ]
  },
  {
   "cell_type": "code",
   "execution_count": 87,
   "metadata": {},
   "outputs": [
    {
     "name": "stdout",
     "output_type": "stream",
     "text": [
      "F1 Score: 0.7690553807154255\n",
      "AUC Score: 0.7346460272296704\n"
     ]
    }
   ],
   "source": [
    "assembler = VectorAssembler(inputCols=[\"f_user\", \"m_user\", \"tot_songs_played\", \"tot_thumbs_up\", \"tot_thumbs_down\",\n",
    "            \"tot_playlist_adds\", \"tot_friends_added\", \"tot_errors\",\"tot_help_request\",\n",
    "            \"tot_length\", \"tot_sessions\", \"tot_404_errors\",\n",
    "            \"paid_user\"],\n",
    "                            outputCol=\"features\")\n",
    "\n",
    "svm = LinearSVC(maxIter=10, regParam=0.0, labelCol=\"churn\")\n",
    "\n",
    "pipeline = Pipeline(stages=[assembler, svm])\n",
    "\n",
    "train, test = sparkify_df_flg.randomSplit([0.8, 0.2], seed=45)\n",
    "model = pipeline.fit(train)\n",
    "predictions = model.transform(test)\n",
    "\n",
    "evaluator_for_f1 = MulticlassClassificationEvaluator(labelCol=\"churn\", metricName='f1')\n",
    "score_of_f1 = evaluator_for_f1.evaluate(predictions)\n",
    "print(\"F1 Score:\", score_of_f1)\n",
    "\n",
    "evaluator_for_auc = BinaryClassificationEvaluator(labelCol=\"churn\", metricName='areaUnderROC')\n",
    "score_of_auc = evaluator_for_auc.evaluate(predictions)\n",
    "print(\"AUC Score:\", score_of_auc)"
   ]
  },
  {
   "cell_type": "markdown",
   "metadata": {},
   "source": [
    "### Creating Gradient Boost Classifier Model"
   ]
  },
  {
   "cell_type": "code",
   "execution_count": 88,
   "metadata": {},
   "outputs": [
    {
     "name": "stdout",
     "output_type": "stream",
     "text": [
      "F1 Score: 0.9733338852798261\n",
      "AUC Score: 0.9992440779015909\n"
     ]
    }
   ],
   "source": [
    "assembler = VectorAssembler(inputCols=[\"f_user\", \"m_user\", \"tot_songs_played\", \"tot_thumbs_up\", \"tot_thumbs_down\",\n",
    "            \"tot_playlist_adds\", \"tot_friends_added\", \"tot_errors\",\"tot_help_request\",\n",
    "            \"tot_length\", \"tot_sessions\", \"tot_404_errors\",\n",
    "            \"paid_user\"],\n",
    "                            outputCol=\"features\")\n",
    "\n",
    "gbt = GBTClassifier(maxIter=10, maxDepth=5, labelCol=\"churn\")\n",
    "\n",
    "pipeline = Pipeline(stages=[assembler, gbt])\n",
    "\n",
    "train, test = sparkify_df_flg.randomSplit([0.8, 0.2], seed=45)\n",
    "\n",
    "model = pipeline.fit(train)\n",
    "predictions = model.transform(test)\n",
    "\n",
    "evaluator_for_f1 = MulticlassClassificationEvaluator(labelCol=\"churn\", metricName='f1')\n",
    "score_of_f1 = evaluator_for_f1.evaluate(predictions)\n",
    "print(\"F1 Score:\", score_of_f1)\n",
    "\n",
    "evaluator_for_auc = BinaryClassificationEvaluator(labelCol=\"churn\", metricName='areaUnderROC')\n",
    "score_of_auc = evaluator_for_auc.evaluate(predictions)\n",
    "print(\"AUC Score:\", score_of_auc)"
   ]
  },
  {
   "cell_type": "markdown",
   "metadata": {},
   "source": [
    "To evaluate the effectiveness of each model, I've employed two common metrics: the F1 score and the Area under the Curve (AUC). The F1 score provides a balance between precision and recall, making it suitable for imbalanced datasets or situations where both false positives and false negatives are equally important. The AUC metric measures the ability of the model to discriminate between positive and negative classes, with a higher AUC indicating better performance.\n",
    "\n",
    "After running the Logistic Regression, SVM (Support Vector Machine) and Gradient Boost Model, here are the F1 scores for these:\n",
    "\n",
    "Score for logistic regression model:\n",
    "F1 Score: 0.7844468769407186\n",
    "AUC Score: 0.7767963831727738\n",
    "\n",
    "Score for Support Vector Machine:\n",
    "F1 Score: 0.7690553807154255\n",
    "AUC Score: 0.7346460272296704\n",
    "\n",
    "Score for Gradient Boost Classifier:\n",
    "F1 Score: 0.9733338852798261\n",
    "AUC Score: 0.9992440779015909\n",
    "\n",
    "From the scores, the gradient boost classifier is the top-performing model among the three models. For further analysis, \n",
    "we can do more work on feature enginerring and can also tune model to further increase performance."
   ]
  },
  {
   "cell_type": "markdown",
   "metadata": {},
   "source": [
    "# Final Steps\n",
    "Clean up your code, adding comments and renaming variables to make the code easier to read and maintain. Refer to the Spark Project Overview page and Data Scientist Capstone Project Rubric to make sure you are including all components of the capstone project and meet all expectations. Remember, this includes thorough documentation in a README file in a Github repository, as well as a web app or blog post."
   ]
  },
  {
   "cell_type": "code",
   "execution_count": null,
   "metadata": {},
   "outputs": [],
   "source": []
  }
 ],
 "metadata": {
  "kernelspec": {
   "display_name": "Python 3",
   "language": "python",
   "name": "python3"
  },
  "language_info": {
   "codemirror_mode": {
    "name": "ipython",
    "version": 3
   },
   "file_extension": ".py",
   "mimetype": "text/x-python",
   "name": "python",
   "nbconvert_exporter": "python",
   "pygments_lexer": "ipython3",
   "version": "3.6.3"
  }
 },
 "nbformat": 4,
 "nbformat_minor": 2
}
